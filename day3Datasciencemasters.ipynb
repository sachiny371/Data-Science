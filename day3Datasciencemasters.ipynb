{
 "cells": [
  {
   "cell_type": "markdown",
   "id": "bc205292-2f88-40fa-bbf2-e1eae9723982",
   "metadata": {},
   "source": [
    "## logical operator\n",
    "1.and\n",
    "2.or\n",
    "3.not"
   ]
  },
  {
   "cell_type": "code",
   "execution_count": 1,
   "id": "7442cf68-a5e7-467c-8d83-ec432a416ba8",
   "metadata": {},
   "outputs": [
    {
     "data": {
      "text/plain": [
       "True"
      ]
     },
     "execution_count": 1,
     "metadata": {},
     "output_type": "execute_result"
    }
   ],
   "source": [
    "True and True"
   ]
  },
  {
   "cell_type": "code",
   "execution_count": 2,
   "id": "feeb96df-a958-4f2f-b591-93b5693d919d",
   "metadata": {},
   "outputs": [
    {
     "data": {
      "text/plain": [
       "True"
      ]
     },
     "execution_count": 2,
     "metadata": {},
     "output_type": "execute_result"
    }
   ],
   "source": [
    "True or True"
   ]
  },
  {
   "cell_type": "code",
   "execution_count": 3,
   "id": "12961033-10b7-4ea3-9b7f-0330772aceb3",
   "metadata": {},
   "outputs": [
    {
     "data": {
      "text/plain": [
       "True"
      ]
     },
     "execution_count": 3,
     "metadata": {},
     "output_type": "execute_result"
    }
   ],
   "source": [
    "True or False"
   ]
  },
  {
   "cell_type": "code",
   "execution_count": 4,
   "id": "25623498-9d13-4f17-87fe-c01435b2971f",
   "metadata": {},
   "outputs": [
    {
     "data": {
      "text/plain": [
       "False"
      ]
     },
     "execution_count": 4,
     "metadata": {},
     "output_type": "execute_result"
    }
   ],
   "source": [
    "not True"
   ]
  },
  {
   "cell_type": "code",
   "execution_count": 5,
   "id": "ad4f5b46-7392-46a3-94fc-fa6df0bb00df",
   "metadata": {},
   "outputs": [
    {
     "data": {
      "text/plain": [
       "True"
      ]
     },
     "execution_count": 5,
     "metadata": {},
     "output_type": "execute_result"
    }
   ],
   "source": [
    "not bool(0)"
   ]
  },
  {
   "cell_type": "code",
   "execution_count": 6,
   "id": "3483ed39-fcae-42ca-8b82-5f5ce95bd811",
   "metadata": {},
   "outputs": [
    {
     "data": {
      "text/plain": [
       "True"
      ]
     },
     "execution_count": 6,
     "metadata": {},
     "output_type": "execute_result"
    }
   ],
   "source": [
    "not int(bool(0))"
   ]
  },
  {
   "cell_type": "code",
   "execution_count": 7,
   "id": "6810753d-8cc6-4c1b-96fe-76965118b264",
   "metadata": {},
   "outputs": [
    {
     "data": {
      "text/plain": [
       "0"
      ]
     },
     "execution_count": 7,
     "metadata": {},
     "output_type": "execute_result"
    }
   ],
   "source": [
    " int(bool(0))"
   ]
  },
  {
   "cell_type": "code",
   "execution_count": 8,
   "id": "95cb1a66-3d67-469b-9f1a-fde5c1b0ebb7",
   "metadata": {},
   "outputs": [
    {
     "data": {
      "text/plain": [
       "True"
      ]
     },
     "execution_count": 8,
     "metadata": {},
     "output_type": "execute_result"
    }
   ],
   "source": [
    " not int(bool(0))"
   ]
  },
  {
   "cell_type": "code",
   "execution_count": 10,
   "id": "7a5714d7-9790-4ca8-bcbc-662f2969355f",
   "metadata": {},
   "outputs": [
    {
     "data": {
      "text/plain": [
       "True"
      ]
     },
     "execution_count": 10,
     "metadata": {},
     "output_type": "execute_result"
    }
   ],
   "source": [
    "bool(1)"
   ]
  },
  {
   "cell_type": "code",
   "execution_count": 11,
   "id": "951a3cce-b933-4c79-be33-26cde55413c3",
   "metadata": {},
   "outputs": [
    {
     "data": {
      "text/plain": [
       "1"
      ]
     },
     "execution_count": 11,
     "metadata": {},
     "output_type": "execute_result"
    }
   ],
   "source": [
    "int(bool(1))"
   ]
  },
  {
   "cell_type": "code",
   "execution_count": 12,
   "id": "ff5b28fc-fd4c-4b10-a6f9-0b4ffdb26de2",
   "metadata": {},
   "outputs": [
    {
     "data": {
      "text/plain": [
       "False"
      ]
     },
     "execution_count": 12,
     "metadata": {},
     "output_type": "execute_result"
    }
   ],
   "source": [
    " not int(bool(1))"
   ]
  },
  {
   "cell_type": "code",
   "execution_count": 13,
   "id": "46ef7f0c-9de2-44d1-9b8f-2863a9243f7a",
   "metadata": {},
   "outputs": [
    {
     "data": {
      "text/plain": [
       "True"
      ]
     },
     "execution_count": 13,
     "metadata": {},
     "output_type": "execute_result"
    }
   ],
   "source": [
    "not 0"
   ]
  },
  {
   "cell_type": "code",
   "execution_count": 14,
   "id": "58df1825-46c2-442e-be57-ffd58471b168",
   "metadata": {},
   "outputs": [
    {
     "data": {
      "text/plain": [
       "False"
      ]
     },
     "execution_count": 14,
     "metadata": {},
     "output_type": "execute_result"
    }
   ],
   "source": [
    "not 1"
   ]
  },
  {
   "cell_type": "code",
   "execution_count": 15,
   "id": "a84303e2-2643-404c-965f-a72de94333ff",
   "metadata": {},
   "outputs": [
    {
     "data": {
      "text/plain": [
       "0"
      ]
     },
     "execution_count": 15,
     "metadata": {},
     "output_type": "execute_result"
    }
   ],
   "source": [
    "int(not 1)"
   ]
  },
  {
   "cell_type": "code",
   "execution_count": 17,
   "id": "c8afb14e-c4b5-44a9-be74-0f1a3e437783",
   "metadata": {},
   "outputs": [
    {
     "data": {
      "text/plain": [
       "0"
      ]
     },
     "execution_count": 17,
     "metadata": {},
     "output_type": "execute_result"
    }
   ],
   "source": [
    "int(not 1000)"
   ]
  },
  {
   "cell_type": "code",
   "execution_count": 18,
   "id": "8c1040ca-57eb-4c08-b725-4e9b9c470d64",
   "metadata": {},
   "outputs": [
    {
     "data": {
      "text/plain": [
       "1"
      ]
     },
     "execution_count": 18,
     "metadata": {},
     "output_type": "execute_result"
    }
   ],
   "source": [
    "True*True"
   ]
  },
  {
   "cell_type": "code",
   "execution_count": 19,
   "id": "8155c162-d27a-4eb1-9ce0-ffb237c7a396",
   "metadata": {},
   "outputs": [
    {
     "data": {
      "text/plain": [
       "0"
      ]
     },
     "execution_count": 19,
     "metadata": {},
     "output_type": "execute_result"
    }
   ],
   "source": [
    "True*False"
   ]
  },
  {
   "cell_type": "code",
   "execution_count": 21,
   "id": "bb87ba53-936f-45dc-a737-4d3db2ad63e4",
   "metadata": {},
   "outputs": [
    {
     "data": {
      "text/plain": [
       "True"
      ]
     },
     "execution_count": 21,
     "metadata": {},
     "output_type": "execute_result"
    }
   ],
   "source": [
    "not (True)*False"
   ]
  },
  {
   "cell_type": "code",
   "execution_count": 22,
   "id": "e35c5cab-9486-4912-a68c-c8d7eefe286c",
   "metadata": {},
   "outputs": [
    {
     "data": {
      "text/plain": [
       "0"
      ]
     },
     "execution_count": 22,
     "metadata": {},
     "output_type": "execute_result"
    }
   ],
   "source": [
    "(not(True))*False"
   ]
  },
  {
   "cell_type": "code",
   "execution_count": 23,
   "id": "d98ad5a8-1c70-4f06-a9ed-843ecfc0dadb",
   "metadata": {},
   "outputs": [
    {
     "data": {
      "text/plain": [
       "True"
      ]
     },
     "execution_count": 23,
     "metadata": {},
     "output_type": "execute_result"
    }
   ],
   "source": [
    "not False*False"
   ]
  },
  {
   "cell_type": "code",
   "execution_count": 24,
   "id": "81d9e55d-2bac-439f-bd3d-d9d1d330e9b1",
   "metadata": {},
   "outputs": [
    {
     "data": {
      "text/plain": [
       "True"
      ]
     },
     "execution_count": 24,
     "metadata": {},
     "output_type": "execute_result"
    }
   ],
   "source": [
    "not (False)*False"
   ]
  },
  {
   "cell_type": "code",
   "execution_count": 25,
   "id": "73c921f5-9fbe-4e9e-9848-4520c2cb121a",
   "metadata": {},
   "outputs": [
    {
     "data": {
      "text/plain": [
       "0"
      ]
     },
     "execution_count": 25,
     "metadata": {},
     "output_type": "execute_result"
    }
   ],
   "source": [
    "(not (False))*False"
   ]
  },
  {
   "cell_type": "code",
   "execution_count": 26,
   "id": "4cabc2a9-8883-4e6c-89c1-8c0d5af2d786",
   "metadata": {},
   "outputs": [
    {
     "data": {
      "text/plain": [
       "True"
      ]
     },
     "execution_count": 26,
     "metadata": {},
     "output_type": "execute_result"
    }
   ],
   "source": [
    "not (False)*False==True"
   ]
  },
  {
   "cell_type": "code",
   "execution_count": 27,
   "id": "55d71ddd-9d8c-4677-aca1-bfe934be09cb",
   "metadata": {},
   "outputs": [
    {
     "data": {
      "text/plain": [
       "True"
      ]
     },
     "execution_count": 27,
     "metadata": {},
     "output_type": "execute_result"
    }
   ],
   "source": [
    "not (False)*True==True"
   ]
  },
  {
   "cell_type": "code",
   "execution_count": 28,
   "id": "4a93eb4b-30e3-426a-852a-9663c1545193",
   "metadata": {},
   "outputs": [
    {
     "data": {
      "text/plain": [
       "True"
      ]
     },
     "execution_count": 28,
     "metadata": {},
     "output_type": "execute_result"
    }
   ],
   "source": [
    "(not (False))*True==True"
   ]
  },
  {
   "cell_type": "code",
   "execution_count": 30,
   "id": "d7ca6b7a-a8ae-473b-a102-7228e0bf9662",
   "metadata": {},
   "outputs": [
    {
     "data": {
      "text/plain": [
       "1"
      ]
     },
     "execution_count": 30,
     "metadata": {},
     "output_type": "execute_result"
    }
   ],
   "source": [
    "False+True"
   ]
  },
  {
   "cell_type": "code",
   "execution_count": 30,
   "id": "660b2203-3987-4021-a7a0-7e41b3c1b7a6",
   "metadata": {},
   "outputs": [
    {
     "data": {
      "text/plain": [
       "1"
      ]
     },
     "execution_count": 30,
     "metadata": {},
     "output_type": "execute_result"
    }
   ],
   "source": [
    "False+True"
   ]
  },
  {
   "cell_type": "code",
   "execution_count": 31,
   "id": "bd2e81ce-bbf6-426a-bed5-ea0e3e856053",
   "metadata": {},
   "outputs": [
    {
     "data": {
      "text/plain": [
       "1"
      ]
     },
     "execution_count": 31,
     "metadata": {},
     "output_type": "execute_result"
    }
   ],
   "source": [
    "bool(0)+bool(1)"
   ]
  },
  {
   "cell_type": "code",
   "execution_count": 1,
   "id": "7ba34012-9ad2-49ea-bfed-75a5bd099175",
   "metadata": {},
   "outputs": [
    {
     "data": {
      "text/plain": [
       "True"
      ]
     },
     "execution_count": 1,
     "metadata": {},
     "output_type": "execute_result"
    }
   ],
   "source": [
    "not(False*True)"
   ]
  },
  {
   "cell_type": "code",
   "execution_count": 2,
   "id": "e73dfffd-8f0c-4829-91ac-7fb759353865",
   "metadata": {},
   "outputs": [
    {
     "data": {
      "text/plain": [
       "False"
      ]
     },
     "execution_count": 2,
     "metadata": {},
     "output_type": "execute_result"
    }
   ],
   "source": [
    "not(False+True)"
   ]
  },
  {
   "cell_type": "code",
   "execution_count": 9,
   "id": "78f57fd4-7f92-4a63-b54c-1dfc1d08c062",
   "metadata": {},
   "outputs": [
    {
     "name": "stdout",
     "output_type": "stream",
     "text": [
      "140302931972096\n",
      "140302931966528\n"
     ]
    }
   ],
   "source": [
    "lst_a=[1,2,3,4,5]\n",
    "lst_b=[1,2,3,4,5]\n",
    "print(id(lst_a))\n",
    "print(id(lst_b))"
   ]
  },
  {
   "cell_type": "code",
   "execution_count": 10,
   "id": "2d7f4453-4f34-43da-8d62-de9810baeb73",
   "metadata": {},
   "outputs": [
    {
     "data": {
      "text/plain": [
       "140302931972096"
      ]
     },
     "execution_count": 10,
     "metadata": {},
     "output_type": "execute_result"
    }
   ],
   "source": [
    "id(lst_a)"
   ]
  },
  {
   "cell_type": "code",
   "execution_count": 17,
   "id": "aefe34f4-9bfd-4849-bc37-61aeb768487f",
   "metadata": {},
   "outputs": [],
   "source": [
    "lst_a=lst_b"
   ]
  },
  {
   "cell_type": "code",
   "execution_count": 13,
   "id": "b1572b9e-6b77-4237-9480-30ea9a36105c",
   "metadata": {},
   "outputs": [],
   "source": [
    "lst_a=[1,2,3,4,5]\n",
    "lst_b=[1,2,3,4,5]"
   ]
  },
  {
   "cell_type": "code",
   "execution_count": 14,
   "id": "59d7c0d5-f268-46e5-a90e-7217cc6cd529",
   "metadata": {},
   "outputs": [
    {
     "data": {
      "text/plain": [
       "False"
      ]
     },
     "execution_count": 14,
     "metadata": {},
     "output_type": "execute_result"
    }
   ],
   "source": [
    "lst_a is lst_b"
   ]
  },
  {
   "cell_type": "code",
   "execution_count": 13,
   "id": "80a8735e-4d7b-4d3b-8f3c-2bbfad953610",
   "metadata": {},
   "outputs": [],
   "source": [
    "lst_a=[1,2,3,4,5]\n",
    "lst_b=[1,2,3,4,5]"
   ]
  },
  {
   "cell_type": "code",
   "execution_count": 15,
   "id": "41ab8584-343f-4517-8e46-a81921852d42",
   "metadata": {},
   "outputs": [
    {
     "data": {
      "text/plain": [
       "True"
      ]
     },
     "execution_count": 15,
     "metadata": {},
     "output_type": "execute_result"
    }
   ],
   "source": [
    "lst_a is not lst_b"
   ]
  },
  {
   "cell_type": "code",
   "execution_count": null,
   "id": "1fb80ea9-6f58-4363-85d7-179adeb648fc",
   "metadata": {},
   "outputs": [],
   "source": []
  },
  {
   "cell_type": "code",
   "execution_count": 13,
   "id": "f1632968-ad61-4e7a-9d2d-c402a6d20cea",
   "metadata": {},
   "outputs": [],
   "source": [
    "lst_a=[1,2,3,4,5]\n",
    "lst_b=[1,2,3,4,5]"
   ]
  },
  {
   "cell_type": "code",
   "execution_count": 20,
   "id": "40856dd2-e13f-41b4-aee8-39afda75444e",
   "metadata": {},
   "outputs": [
    {
     "data": {
      "text/plain": [
       "True"
      ]
     },
     "execution_count": 20,
     "metadata": {},
     "output_type": "execute_result"
    }
   ],
   "source": [
    "lst_a==lst_b"
   ]
  },
  {
   "cell_type": "code",
   "execution_count": 24,
   "id": "92d7062c-0b47-4dcf-858e-8fd024d5b816",
   "metadata": {},
   "outputs": [
    {
     "data": {
      "text/plain": [
       "140303414411536"
      ]
     },
     "execution_count": 24,
     "metadata": {},
     "output_type": "execute_result"
    }
   ],
   "source": [
    "a=2\n",
    "b=2\n",
    "id(a)"
   ]
  },
  {
   "cell_type": "code",
   "execution_count": 26,
   "id": "e4c4b2ed-87a2-4395-b66d-1dce3e60b4f0",
   "metadata": {},
   "outputs": [
    {
     "name": "stdout",
     "output_type": "stream",
     "text": [
      "140303414411536\n",
      "140303414411536\n"
     ]
    }
   ],
   "source": [
    "print(id(a))\n",
    "print(id(b))"
   ]
  },
  {
   "cell_type": "markdown",
   "id": "cee81e08-5427-4970-9024-b625e5c15852",
   "metadata": {},
   "source": [
    "# list"
   ]
  },
  {
   "cell_type": "code",
   "execution_count": 27,
   "id": "ab1a331e-7721-48b1-93c0-c78cb4f831fe",
   "metadata": {},
   "outputs": [
    {
     "data": {
      "text/plain": [
       "[1, 2, 3, 4, 5]"
      ]
     },
     "execution_count": 27,
     "metadata": {},
     "output_type": "execute_result"
    }
   ],
   "source": [
    "lst_a"
   ]
  },
  {
   "cell_type": "code",
   "execution_count": 29,
   "id": "af24585d-6622-4d90-bb72-82aa82cdfd6f",
   "metadata": {},
   "outputs": [
    {
     "data": {
      "text/plain": [
       "1"
      ]
     },
     "execution_count": 29,
     "metadata": {},
     "output_type": "execute_result"
    }
   ],
   "source": [
    "lst_a[0]"
   ]
  },
  {
   "cell_type": "code",
   "execution_count": 30,
   "id": "e6130741-12e5-402d-99b7-4fe6e9588882",
   "metadata": {},
   "outputs": [
    {
     "data": {
      "text/plain": [
       "2"
      ]
     },
     "execution_count": 30,
     "metadata": {},
     "output_type": "execute_result"
    }
   ],
   "source": [
    "lst_a[1]"
   ]
  },
  {
   "cell_type": "code",
   "execution_count": 31,
   "id": "baea1c5b-22b0-4f2a-8da9-dcfa3bfc6231",
   "metadata": {},
   "outputs": [
    {
     "data": {
      "text/plain": [
       "3"
      ]
     },
     "execution_count": 31,
     "metadata": {},
     "output_type": "execute_result"
    }
   ],
   "source": [
    "lst_a[2]"
   ]
  },
  {
   "cell_type": "code",
   "execution_count": 32,
   "id": "e9511be1-5bec-4269-98c9-a44b8f7e2717",
   "metadata": {},
   "outputs": [],
   "source": [
    "lst_a[2]=10"
   ]
  },
  {
   "cell_type": "code",
   "execution_count": 33,
   "id": "4d8fa4e7-58d8-4d79-8ea8-4d53569fb057",
   "metadata": {},
   "outputs": [
    {
     "data": {
      "text/plain": [
       "[1, 2, 10, 4, 5]"
      ]
     },
     "execution_count": 33,
     "metadata": {},
     "output_type": "execute_result"
    }
   ],
   "source": [
    "lst_a"
   ]
  },
  {
   "cell_type": "code",
   "execution_count": 35,
   "id": "d8ff7f6f-6dd9-46e1-ad5e-e69d3c295e2b",
   "metadata": {},
   "outputs": [],
   "source": [
    "str1=\"sachin\""
   ]
  },
  {
   "cell_type": "code",
   "execution_count": 36,
   "id": "7162d28e-6706-4c9b-8258-b17ec616d1dc",
   "metadata": {},
   "outputs": [
    {
     "data": {
      "text/plain": [
       "'s'"
      ]
     },
     "execution_count": 36,
     "metadata": {},
     "output_type": "execute_result"
    }
   ],
   "source": [
    "str1[0]"
   ]
  },
  {
   "cell_type": "code",
   "execution_count": 37,
   "id": "63b62d32-1ff9-414b-b2c1-225353614260",
   "metadata": {},
   "outputs": [
    {
     "ename": "TypeError",
     "evalue": "'str' object does not support item assignment",
     "output_type": "error",
     "traceback": [
      "\u001b[0;31m---------------------------------------------------------------------------\u001b[0m",
      "\u001b[0;31mTypeError\u001b[0m                                 Traceback (most recent call last)",
      "Cell \u001b[0;32mIn[37], line 1\u001b[0m\n\u001b[0;32m----> 1\u001b[0m \u001b[43mstr1\u001b[49m\u001b[43m[\u001b[49m\u001b[38;5;241;43m0\u001b[39;49m\u001b[43m]\u001b[49m\u001b[38;5;241m=\u001b[39m\u001b[38;5;124m\"\u001b[39m\u001b[38;5;124mc\u001b[39m\u001b[38;5;124m\"\u001b[39m\n",
      "\u001b[0;31mTypeError\u001b[0m: 'str' object does not support item assignment"
     ]
    }
   ],
   "source": [
    "str1[0]=\"c\" ## string is immutable"
   ]
  },
  {
   "cell_type": "code",
   "execution_count": 40,
   "id": "4cc93858-5a35-460c-a12d-1a5e58e6d58e",
   "metadata": {},
   "outputs": [
    {
     "name": "stdout",
     "output_type": "stream",
     "text": [
      "bike is faster than car:False\n"
     ]
    }
   ],
   "source": [
    "maximum_speed_of_bike=150\n",
    "maximum_speed_of_car=200\n",
    "print(f\"bike is faster than car:{maximum_speed_of_bike>maximum_speed_of_car:}\")\n"
   ]
  },
  {
   "cell_type": "code",
   "execution_count": 41,
   "id": "2d5e1485-59d4-466b-8e82-5e742d1fe19c",
   "metadata": {},
   "outputs": [
    {
     "name": "stdout",
     "output_type": "stream",
     "text": [
      "bike is faster than car:True\n"
     ]
    }
   ],
   "source": [
    "maximum_speed_of_bike=150\n",
    "maximum_speed_of_car=200\n",
    "print(f\"bike is faster than car:{maximum_speed_of_bike<maximum_speed_of_car:}\")\n"
   ]
  },
  {
   "cell_type": "code",
   "execution_count": 42,
   "id": "c44f5cf5-aa2e-4af2-90d7-dc2a3e9910c6",
   "metadata": {},
   "outputs": [
    {
     "name": "stdout",
     "output_type": "stream",
     "text": [
      "bike is faster than car:True\n"
     ]
    }
   ],
   "source": [
    "maximum_speed_of_bike=150\n",
    "maximum_speed_of_car=200\n",
    "print(f\"bike is faster than car:{maximum_speed_of_bike<=maximum_speed_of_car:}\")\n"
   ]
  },
  {
   "cell_type": "code",
   "execution_count": 43,
   "id": "58211e44-d69b-4387-816b-876ae019f05b",
   "metadata": {},
   "outputs": [
    {
     "name": "stdout",
     "output_type": "stream",
     "text": [
      "bike is faster than car:False\n"
     ]
    }
   ],
   "source": [
    "maximum_speed_of_bike=150\n",
    "maximum_speed_of_car=200\n",
    "print(f\"bike is faster than car:{maximum_speed_of_bike>=maximum_speed_of_car:}\")\n"
   ]
  },
  {
   "cell_type": "code",
   "execution_count": 44,
   "id": "d4eb0b49-5361-41c1-acfb-e74f865eb195",
   "metadata": {},
   "outputs": [
    {
     "name": "stdout",
     "output_type": "stream",
     "text": [
      "bike is faster than car:True\n"
     ]
    }
   ],
   "source": [
    "maximum_speed_of_bike=200\n",
    "maximum_speed_of_car=200\n",
    "print(f\"bike is faster than car:{maximum_speed_of_bike>=maximum_speed_of_car:}\")\n"
   ]
  },
  {
   "cell_type": "markdown",
   "id": "8e1a4212-1389-419f-b835-9f758541060c",
   "metadata": {},
   "source": [
    "## Arithmatic operation\n"
   ]
  },
  {
   "cell_type": "code",
   "execution_count": 45,
   "id": "fba4a12e-59f4-4b6b-9f12-bfb47038a0cb",
   "metadata": {},
   "outputs": [],
   "source": [
    "a=10\n",
    "b=23"
   ]
  },
  {
   "cell_type": "code",
   "execution_count": 46,
   "id": "1f580e9a-11bd-4e21-8afb-b916548816b1",
   "metadata": {},
   "outputs": [
    {
     "data": {
      "text/plain": [
       "33"
      ]
     },
     "execution_count": 46,
     "metadata": {},
     "output_type": "execute_result"
    }
   ],
   "source": [
    "a+b"
   ]
  },
  {
   "cell_type": "code",
   "execution_count": 47,
   "id": "e60aa3d3-dc81-4caf-9d79-5d9bb83ad317",
   "metadata": {},
   "outputs": [
    {
     "data": {
      "text/plain": [
       "-13"
      ]
     },
     "execution_count": 47,
     "metadata": {},
     "output_type": "execute_result"
    }
   ],
   "source": [
    "a-b"
   ]
  },
  {
   "cell_type": "code",
   "execution_count": 48,
   "id": "62abf7e0-5d9f-4712-8b57-9b5aac88c5b9",
   "metadata": {},
   "outputs": [
    {
     "data": {
      "text/plain": [
       "230"
      ]
     },
     "execution_count": 48,
     "metadata": {},
     "output_type": "execute_result"
    }
   ],
   "source": [
    "a*b"
   ]
  },
  {
   "cell_type": "code",
   "execution_count": 49,
   "id": "84202b98-0605-4dbd-9fe3-c31f29260385",
   "metadata": {},
   "outputs": [
    {
     "data": {
      "text/plain": [
       "0.43478260869565216"
      ]
     },
     "execution_count": 49,
     "metadata": {},
     "output_type": "execute_result"
    }
   ],
   "source": [
    "a/b"
   ]
  },
  {
   "cell_type": "code",
   "execution_count": 50,
   "id": "0a4775f3-7d99-4b3e-900b-601d15cc6a9a",
   "metadata": {},
   "outputs": [
    {
     "data": {
      "text/plain": [
       "2.3"
      ]
     },
     "execution_count": 50,
     "metadata": {},
     "output_type": "execute_result"
    }
   ],
   "source": [
    "b/a"
   ]
  },
  {
   "cell_type": "code",
   "execution_count": 51,
   "id": "c890b79a-6eae-4114-b2af-d2b282ff993c",
   "metadata": {},
   "outputs": [
    {
     "data": {
      "text/plain": [
       "2"
      ]
     },
     "execution_count": 51,
     "metadata": {},
     "output_type": "execute_result"
    }
   ],
   "source": [
    "b//a"
   ]
  },
  {
   "cell_type": "code",
   "execution_count": 52,
   "id": "35b9755e-7563-4f72-a226-93e6cddf882c",
   "metadata": {},
   "outputs": [
    {
     "data": {
      "text/plain": [
       "3"
      ]
     },
     "execution_count": 52,
     "metadata": {},
     "output_type": "execute_result"
    }
   ],
   "source": [
    "b%a #display remainder"
   ]
  },
  {
   "cell_type": "markdown",
   "id": "d894584d-a00a-41b3-ab45-fbc284a708d9",
   "metadata": {},
   "source": [
    "## Data structure\n",
    "string"
   ]
  },
  {
   "cell_type": "code",
   "execution_count": 53,
   "id": "85452b4f-3721-443a-8624-62106706c8d1",
   "metadata": {},
   "outputs": [],
   "source": [
    "# string noted by ''or\"\""
   ]
  },
  {
   "cell_type": "code",
   "execution_count": 56,
   "id": "5227ed05-764c-4cff-bde6-7faf3225c1ae",
   "metadata": {},
   "outputs": [],
   "source": [
    "str2=\"welcome to data science masters\""
   ]
  },
  {
   "cell_type": "code",
   "execution_count": 58,
   "id": "57bfecc1-5aad-4721-a123-d15b9709c888",
   "metadata": {},
   "outputs": [
    {
     "data": {
      "text/plain": [
       "str"
      ]
     },
     "execution_count": 58,
     "metadata": {},
     "output_type": "execute_result"
    }
   ],
   "source": [
    "type(str2)"
   ]
  },
  {
   "cell_type": "code",
   "execution_count": 59,
   "id": "25cac16d-4f9b-4158-b387-2ab8752d4ab7",
   "metadata": {},
   "outputs": [
    {
     "data": {
      "text/plain": [
       "'w'"
      ]
     },
     "execution_count": 59,
     "metadata": {},
     "output_type": "execute_result"
    }
   ],
   "source": [
    "str2[0]"
   ]
  },
  {
   "cell_type": "code",
   "execution_count": 60,
   "id": "b1aeb012-251d-4edc-9b3a-8f2bc936715a",
   "metadata": {},
   "outputs": [
    {
     "data": {
      "text/plain": [
       "'e'"
      ]
     },
     "execution_count": 60,
     "metadata": {},
     "output_type": "execute_result"
    }
   ],
   "source": [
    "str2[1]"
   ]
  },
  {
   "cell_type": "code",
   "execution_count": 62,
   "id": "39f9d565-18b4-4a71-b80b-d9c92dc7cf4e",
   "metadata": {},
   "outputs": [
    {
     "data": {
      "text/plain": [
       "' '"
      ]
     },
     "execution_count": 62,
     "metadata": {},
     "output_type": "execute_result"
    }
   ],
   "source": [
    "str2[7]"
   ]
  },
  {
   "cell_type": "code",
   "execution_count": 64,
   "id": "c339df6d-812c-45da-91fd-a6f26fba5c99",
   "metadata": {},
   "outputs": [
    {
     "ename": "NameError",
     "evalue": "name 's' is not defined",
     "output_type": "error",
     "traceback": [
      "\u001b[0;31m---------------------------------------------------------------------------\u001b[0m",
      "\u001b[0;31mNameError\u001b[0m                                 Traceback (most recent call last)",
      "Cell \u001b[0;32mIn[64], line 1\u001b[0m\n\u001b[0;32m----> 1\u001b[0m str2[\u001b[38;5;241m3\u001b[39m]\u001b[38;5;241m=\u001b[39m\u001b[43ms\u001b[49m\n",
      "\u001b[0;31mNameError\u001b[0m: name 's' is not defined"
     ]
    }
   ],
   "source": [
    "# string is immutable\n",
    "str2[3]=s"
   ]
  },
  {
   "cell_type": "code",
   "execution_count": 65,
   "id": "5871fc94-0192-43c7-98e2-e9bc83a473c3",
   "metadata": {},
   "outputs": [],
   "source": [
    "## Entire string is changeable but element of string is not change\n",
    "str2=\"sachin kumar\""
   ]
  },
  {
   "cell_type": "code",
   "execution_count": 66,
   "id": "7be720de-3c75-4020-80ac-c7c6989f7d86",
   "metadata": {},
   "outputs": [
    {
     "data": {
      "text/plain": [
       "'sachin kumar'"
      ]
     },
     "execution_count": 66,
     "metadata": {},
     "output_type": "execute_result"
    }
   ],
   "source": [
    "str2"
   ]
  },
  {
   "cell_type": "code",
   "execution_count": null,
   "id": "3eba6c5b-a4ae-4a28-a806-5aaf7ee92439",
   "metadata": {},
   "outputs": [],
   "source": [
    "str2."
   ]
  },
  {
   "cell_type": "code",
   "execution_count": 67,
   "id": "f4228371-352c-4717-a133-071088686ddb",
   "metadata": {},
   "outputs": [],
   "source": [
    "string=\"pw skills data science\""
   ]
  },
  {
   "cell_type": "code",
   "execution_count": 68,
   "id": "62dec5ed-5529-48e8-baaa-9ec8107101b1",
   "metadata": {},
   "outputs": [
    {
     "data": {
      "text/plain": [
       "'i'"
      ]
     },
     "execution_count": 68,
     "metadata": {},
     "output_type": "execute_result"
    }
   ],
   "source": [
    "string[5]"
   ]
  },
  {
   "cell_type": "code",
   "execution_count": 69,
   "id": "e5e2a77d-2c15-4297-bbf7-06bf28a301be",
   "metadata": {},
   "outputs": [
    {
     "data": {
      "text/plain": [
       "'ills data science'"
      ]
     },
     "execution_count": 69,
     "metadata": {},
     "output_type": "execute_result"
    }
   ],
   "source": [
    "# slicing of string\n",
    "string[5:]"
   ]
  },
  {
   "cell_type": "code",
   "execution_count": 70,
   "id": "d6545b0f-ceef-416f-9886-c83fc87bf4fd",
   "metadata": {},
   "outputs": [
    {
     "data": {
      "text/plain": [
       "'ills d'"
      ]
     },
     "execution_count": 70,
     "metadata": {},
     "output_type": "execute_result"
    }
   ],
   "source": [
    "# slicing of string\n",
    "string[5:11]"
   ]
  },
  {
   "cell_type": "code",
   "execution_count": 71,
   "id": "4fce3ba5-d088-4cf7-b8b9-8600c38d8213",
   "metadata": {},
   "outputs": [
    {
     "data": {
      "text/plain": [
       "'e'"
      ]
     },
     "execution_count": 71,
     "metadata": {},
     "output_type": "execute_result"
    }
   ],
   "source": [
    "# slicing of string\n",
    "string[-1]"
   ]
  },
  {
   "cell_type": "code",
   "execution_count": 79,
   "id": "52b68c8f-02f5-4d53-b113-1f5f0306f50a",
   "metadata": {},
   "outputs": [
    {
     "data": {
      "text/plain": [
       "'ecneics atad slliks wp'"
      ]
     },
     "execution_count": 79,
     "metadata": {},
     "output_type": "execute_result"
    }
   ],
   "source": [
    "# slicing of string\n",
    "string[-1::-1]"
   ]
  },
  {
   "cell_type": "code",
   "execution_count": 74,
   "id": "663b4d6b-04ac-4125-96b0-b7a4c5d5bf34",
   "metadata": {},
   "outputs": [
    {
     "data": {
      "text/plain": [
       "22"
      ]
     },
     "execution_count": 74,
     "metadata": {},
     "output_type": "execute_result"
    }
   ],
   "source": [
    "len(string)"
   ]
  },
  {
   "cell_type": "code",
   "execution_count": 76,
   "id": "cc924c9f-d7b3-4864-acc6-9568b7f16662",
   "metadata": {},
   "outputs": [
    {
     "data": {
      "text/plain": [
       "'e'"
      ]
     },
     "execution_count": 76,
     "metadata": {},
     "output_type": "execute_result"
    }
   ],
   "source": [
    "string[21]"
   ]
  },
  {
   "cell_type": "code",
   "execution_count": 78,
   "id": "f53cb184-26a9-44ca-8fdf-66766990dbc0",
   "metadata": {},
   "outputs": [
    {
     "data": {
      "text/plain": [
       "'ecneics atad slliks wp'"
      ]
     },
     "execution_count": 78,
     "metadata": {},
     "output_type": "execute_result"
    }
   ],
   "source": [
    "string[21::-1]"
   ]
  },
  {
   "cell_type": "code",
   "execution_count": 81,
   "id": "79226c32-3f85-412d-a608-4258ef97e589",
   "metadata": {},
   "outputs": [
    {
     "data": {
      "text/plain": [
       "'pw skills data science'"
      ]
     },
     "execution_count": 81,
     "metadata": {},
     "output_type": "execute_result"
    }
   ],
   "source": [
    "string"
   ]
  },
  {
   "cell_type": "code",
   "execution_count": 82,
   "id": "98e1340c-0ea8-4a6b-ac74-a7ccdd54ad1c",
   "metadata": {},
   "outputs": [
    {
     "data": {
      "text/plain": [
       "'nce'"
      ]
     },
     "execution_count": 82,
     "metadata": {},
     "output_type": "execute_result"
    }
   ],
   "source": [
    "string[-3:]"
   ]
  },
  {
   "cell_type": "code",
   "execution_count": 86,
   "id": "351b7bb0-7fcb-4c0f-89cc-03c648fb3fab",
   "metadata": {},
   "outputs": [
    {
     "data": {
      "text/plain": [
       "'nc'"
      ]
     },
     "execution_count": 86,
     "metadata": {},
     "output_type": "execute_result"
    }
   ],
   "source": [
    "string[-3:-1]"
   ]
  },
  {
   "cell_type": "code",
   "execution_count": 88,
   "id": "53b5d9b4-cccb-4d73-b58a-d227952852b7",
   "metadata": {},
   "outputs": [
    {
     "data": {
      "text/plain": [
       "'science'"
      ]
     },
     "execution_count": 88,
     "metadata": {},
     "output_type": "execute_result"
    }
   ],
   "source": [
    "string[-7:]"
   ]
  },
  {
   "cell_type": "code",
   "execution_count": 89,
   "id": "b43be0e4-af5e-4a31-81df-97e97dd14d34",
   "metadata": {},
   "outputs": [
    {
     "data": {
      "text/plain": [
       "'scienc'"
      ]
     },
     "execution_count": 89,
     "metadata": {},
     "output_type": "execute_result"
    }
   ],
   "source": [
    "string[-7:-1]"
   ]
  },
  {
   "cell_type": "code",
   "execution_count": 90,
   "id": "0684ddf4-cdfb-4c3b-88ce-caa0e4631202",
   "metadata": {},
   "outputs": [
    {
     "data": {
      "text/plain": [
       "'pw skills data science'"
      ]
     },
     "execution_count": 90,
     "metadata": {},
     "output_type": "execute_result"
    }
   ],
   "source": [
    "string"
   ]
  },
  {
   "cell_type": "code",
   "execution_count": 91,
   "id": "0bb121b5-cf6d-4ca0-9002-b68d221fd256",
   "metadata": {},
   "outputs": [
    {
     "data": {
      "text/plain": [
       "'pw skills data science'"
      ]
     },
     "execution_count": 91,
     "metadata": {},
     "output_type": "execute_result"
    }
   ],
   "source": [
    "string[:]"
   ]
  },
  {
   "cell_type": "code",
   "execution_count": 92,
   "id": "5863e6eb-f4e4-471d-b05b-150f10d0d663",
   "metadata": {},
   "outputs": [
    {
     "data": {
      "text/plain": [
       "'pw skills data science'"
      ]
     },
     "execution_count": 92,
     "metadata": {},
     "output_type": "execute_result"
    }
   ],
   "source": [
    "string[::]"
   ]
  },
  {
   "cell_type": "code",
   "execution_count": 93,
   "id": "b949ed4c-6204-4566-b666-80fb15e72fdd",
   "metadata": {},
   "outputs": [
    {
     "data": {
      "text/plain": [
       "'ecneics atad slliks wp'"
      ]
     },
     "execution_count": 93,
     "metadata": {},
     "output_type": "execute_result"
    }
   ],
   "source": [
    "string[::-1]"
   ]
  },
  {
   "cell_type": "code",
   "execution_count": 94,
   "id": "80ac0fd6-92ad-4dd2-9203-12875d7c6443",
   "metadata": {},
   "outputs": [
    {
     "data": {
      "text/plain": [
       "'enisaa lisw'"
      ]
     },
     "execution_count": 94,
     "metadata": {},
     "output_type": "execute_result"
    }
   ],
   "source": [
    "string[::-2]"
   ]
  },
  {
   "cell_type": "code",
   "execution_count": 95,
   "id": "2c622755-4343-4225-8420-c8b48ecb8605",
   "metadata": {},
   "outputs": [
    {
     "data": {
      "text/plain": [
       "'eest lsp'"
      ]
     },
     "execution_count": 95,
     "metadata": {},
     "output_type": "execute_result"
    }
   ],
   "source": [
    "string[::-3]"
   ]
  },
  {
   "cell_type": "code",
   "execution_count": 98,
   "id": "dc512c96-9370-47f2-ac85-7ed094e95b4b",
   "metadata": {},
   "outputs": [],
   "source": [
    "course_name=\"Data science masters\""
   ]
  },
  {
   "cell_type": "code",
   "execution_count": 100,
   "id": "98a0e4c2-9239-44c4-8825-d3a5dfc7fe94",
   "metadata": {},
   "outputs": [
    {
     "data": {
      "text/plain": [
       "'science'"
      ]
     },
     "execution_count": 100,
     "metadata": {},
     "output_type": "execute_result"
    }
   ],
   "source": [
    "course_name[5:12:]"
   ]
  },
  {
   "cell_type": "code",
   "execution_count": 106,
   "id": "4741fd4e-7769-4753-b7b2-4d3629e7802c",
   "metadata": {},
   "outputs": [
    {
     "data": {
      "text/plain": [
       "'ecneics'"
      ]
     },
     "execution_count": 106,
     "metadata": {},
     "output_type": "execute_result"
    }
   ],
   "source": [
    "course_name[-9:-16:-1]"
   ]
  },
  {
   "cell_type": "code",
   "execution_count": 109,
   "id": "c15a26bc-2820-4885-b98e-3554059cf0eb",
   "metadata": {},
   "outputs": [
    {
     "data": {
      "text/plain": [
       "'ecneics'"
      ]
     },
     "execution_count": 109,
     "metadata": {},
     "output_type": "execute_result"
    }
   ],
   "source": [
    "course_name[11:4:-1]"
   ]
  },
  {
   "cell_type": "code",
   "execution_count": 1,
   "id": "f39767bb-bd44-48f6-844a-4391b8bff083",
   "metadata": {},
   "outputs": [
    {
     "ename": "NameError",
     "evalue": "name 'course_name' is not defined",
     "output_type": "error",
     "traceback": [
      "\u001b[0;31m---------------------------------------------------------------------------\u001b[0m",
      "\u001b[0;31mNameError\u001b[0m                                 Traceback (most recent call last)",
      "Cell \u001b[0;32mIn[1], line 1\u001b[0m\n\u001b[0;32m----> 1\u001b[0m \u001b[43mcourse_name\u001b[49m\n",
      "\u001b[0;31mNameError\u001b[0m: name 'course_name' is not defined"
     ]
    }
   ],
   "source": [
    "course_name"
   ]
  },
  {
   "cell_type": "markdown",
   "id": "c09bb4db-3065-467f-875c-eb3ca0486124",
   "metadata": {},
   "source": []
  },
  {
   "cell_type": "code",
   "execution_count": 3,
   "id": "ef105089-a90b-40cd-85ed-8c0ee6f613f5",
   "metadata": {},
   "outputs": [],
   "source": [
    "course_name=\"Data science masters\""
   ]
  },
  {
   "cell_type": "code",
   "execution_count": 9,
   "id": "013f10f2-5e0e-41e2-a510-b5855cd3846e",
   "metadata": {},
   "outputs": [
    {
     "data": {
      "text/plain": [
       "'Data science masters'"
      ]
     },
     "execution_count": 9,
     "metadata": {},
     "output_type": "execute_result"
    }
   ],
   "source": [
    "course_name"
   ]
  },
  {
   "cell_type": "code",
   "execution_count": 10,
   "id": "902a429e-dfae-4977-b8de-e9ca3f9050ca",
   "metadata": {},
   "outputs": [
    {
     "data": {
      "text/plain": [
       "'m ecneic'"
      ]
     },
     "execution_count": 10,
     "metadata": {},
     "output_type": "execute_result"
    }
   ],
   "source": [
    "course_name[13:5:-1]"
   ]
  },
  {
   "cell_type": "code",
   "execution_count": 11,
   "id": "04d0d21d-1fad-42fe-a61b-77c711420f17",
   "metadata": {},
   "outputs": [],
   "source": [
    "name=\"krish\""
   ]
  },
  {
   "cell_type": "code",
   "execution_count": 12,
   "id": "f09b391a-65ab-4f60-8875-9d7c4b441412",
   "metadata": {},
   "outputs": [
    {
     "data": {
      "text/plain": [
       "'krish'"
      ]
     },
     "execution_count": 12,
     "metadata": {},
     "output_type": "execute_result"
    }
   ],
   "source": [
    "name[:]"
   ]
  },
  {
   "cell_type": "code",
   "execution_count": 13,
   "id": "e5fc3317-96a2-4605-b705-e379324b250c",
   "metadata": {},
   "outputs": [
    {
     "data": {
      "text/plain": [
       "'krish'"
      ]
     },
     "execution_count": 13,
     "metadata": {},
     "output_type": "execute_result"
    }
   ],
   "source": [
    "name[::]"
   ]
  },
  {
   "cell_type": "code",
   "execution_count": 14,
   "id": "a2638ac3-a2c6-4f04-bdfe-e40e4fb62974",
   "metadata": {},
   "outputs": [
    {
     "data": {
      "text/plain": [
       "'krish'"
      ]
     },
     "execution_count": 14,
     "metadata": {},
     "output_type": "execute_result"
    }
   ],
   "source": [
    "name[::1]"
   ]
  },
  {
   "cell_type": "code",
   "execution_count": 15,
   "id": "e5a86d27-7814-4f0f-ae0c-6628aa6b8f26",
   "metadata": {},
   "outputs": [
    {
     "data": {
      "text/plain": [
       "'kih'"
      ]
     },
     "execution_count": 15,
     "metadata": {},
     "output_type": "execute_result"
    }
   ],
   "source": [
    "name[::2]"
   ]
  },
  {
   "cell_type": "code",
   "execution_count": 16,
   "id": "c4338071-ed34-4783-9dbd-43a6f681be5e",
   "metadata": {},
   "outputs": [
    {
     "data": {
      "text/plain": [
       "'ks'"
      ]
     },
     "execution_count": 16,
     "metadata": {},
     "output_type": "execute_result"
    }
   ],
   "source": [
    "name[::3]"
   ]
  },
  {
   "cell_type": "code",
   "execution_count": 17,
   "id": "7606afca-26f8-4141-9ed8-403af40c570a",
   "metadata": {},
   "outputs": [
    {
     "data": {
      "text/plain": [
       "'hsirk'"
      ]
     },
     "execution_count": 17,
     "metadata": {},
     "output_type": "execute_result"
    }
   ],
   "source": [
    "name[::-1]"
   ]
  },
  {
   "cell_type": "code",
   "execution_count": 18,
   "id": "cdaafa6a-7479-45a3-8cec-07d86e379bb4",
   "metadata": {},
   "outputs": [
    {
     "data": {
      "text/plain": [
       "'hik'"
      ]
     },
     "execution_count": 18,
     "metadata": {},
     "output_type": "execute_result"
    }
   ],
   "source": [
    "name[::-2]"
   ]
  },
  {
   "cell_type": "code",
   "execution_count": 19,
   "id": "ac566faf-7b2f-4ac3-b148-c520979e6bb7",
   "metadata": {},
   "outputs": [
    {
     "data": {
      "text/plain": [
       "'krish'"
      ]
     },
     "execution_count": 19,
     "metadata": {},
     "output_type": "execute_result"
    }
   ],
   "source": [
    "name"
   ]
  },
  {
   "cell_type": "code",
   "execution_count": 20,
   "id": "98601932-f7b1-4d44-a5ea-29277b70ec9a",
   "metadata": {},
   "outputs": [
    {
     "data": {
      "text/plain": [
       "'hr'"
      ]
     },
     "execution_count": 20,
     "metadata": {},
     "output_type": "execute_result"
    }
   ],
   "source": [
    "name[::-3]"
   ]
  },
  {
   "cell_type": "code",
   "execution_count": 21,
   "id": "e3bde84b-22df-4292-8ddd-fb001cc491e4",
   "metadata": {},
   "outputs": [
    {
     "data": {
      "text/plain": [
       "'krish'"
      ]
     },
     "execution_count": 21,
     "metadata": {},
     "output_type": "execute_result"
    }
   ],
   "source": [
    "name"
   ]
  },
  {
   "cell_type": "code",
   "execution_count": 22,
   "id": "87dbe27f-e65d-414a-888f-b2975ce248a9",
   "metadata": {},
   "outputs": [
    {
     "data": {
      "text/plain": [
       "'sirk'"
      ]
     },
     "execution_count": 22,
     "metadata": {},
     "output_type": "execute_result"
    }
   ],
   "source": [
    "name[3::-1]"
   ]
  },
  {
   "cell_type": "code",
   "execution_count": 23,
   "id": "6faecbc8-3384-40e0-92d7-2cd17716c41e",
   "metadata": {},
   "outputs": [
    {
     "data": {
      "text/plain": [
       "'si'"
      ]
     },
     "execution_count": 23,
     "metadata": {},
     "output_type": "execute_result"
    }
   ],
   "source": [
    "name[3:1:-1]"
   ]
  },
  {
   "cell_type": "code",
   "execution_count": 25,
   "id": "45b20c38-3ea2-4eaa-bca8-b39f41c28e12",
   "metadata": {},
   "outputs": [
    {
     "data": {
      "text/plain": [
       "'hs'"
      ]
     },
     "execution_count": 25,
     "metadata": {},
     "output_type": "execute_result"
    }
   ],
   "source": [
    "name[4:2:-1]"
   ]
  },
  {
   "cell_type": "code",
   "execution_count": 26,
   "id": "e0b9ae04-927b-45c0-bbe1-64bfc6450d6d",
   "metadata": {},
   "outputs": [
    {
     "name": "stdout",
     "output_type": "stream",
     "text": [
      "helloworld\n"
     ]
    }
   ],
   "source": [
    "# string concatenation\n",
    "print(\"hello\"+\"world\")"
   ]
  },
  {
   "cell_type": "code",
   "execution_count": 27,
   "id": "d8ae0a88-24ae-486b-a1fb-fb3aea616304",
   "metadata": {},
   "outputs": [
    {
     "data": {
      "text/plain": [
       "'krish'"
      ]
     },
     "execution_count": 27,
     "metadata": {},
     "output_type": "execute_result"
    }
   ],
   "source": [
    "name"
   ]
  },
  {
   "cell_type": "code",
   "execution_count": 29,
   "id": "7462892f-7c95-4fce-a06d-ca06900f3718",
   "metadata": {},
   "outputs": [
    {
     "data": {
      "text/plain": [
       "'krishkrishkrishkrish'"
      ]
     },
     "execution_count": 29,
     "metadata": {},
     "output_type": "execute_result"
    }
   ],
   "source": [
    "name *4"
   ]
  },
  {
   "cell_type": "code",
   "execution_count": 32,
   "id": "edd5e4bb-cfec-4db1-9f1b-ac73e27e9a4e",
   "metadata": {},
   "outputs": [
    {
     "data": {
      "text/plain": [
       "'krish naik'"
      ]
     },
     "execution_count": 32,
     "metadata": {},
     "output_type": "execute_result"
    }
   ],
   "source": [
    "name + \" naik\""
   ]
  },
  {
   "cell_type": "code",
   "execution_count": 34,
   "id": "36d4aa0f-c922-466f-a8c9-ee5ee783bdb9",
   "metadata": {},
   "outputs": [
    {
     "data": {
      "text/plain": [
       "'Data science masters'"
      ]
     },
     "execution_count": 34,
     "metadata": {},
     "output_type": "execute_result"
    }
   ],
   "source": [
    "course_name"
   ]
  },
  {
   "cell_type": "code",
   "execution_count": 35,
   "id": "a82112f5-5c49-4383-aa22-d79dfbb667f5",
   "metadata": {},
   "outputs": [
    {
     "data": {
      "text/plain": [
       "20"
      ]
     },
     "execution_count": 35,
     "metadata": {},
     "output_type": "execute_result"
    }
   ],
   "source": [
    "# len function gives the lenght of string including space also\n",
    "len(course_name)"
   ]
  },
  {
   "cell_type": "code",
   "execution_count": 36,
   "id": "89182e85-8e91-4e9c-8233-1a4ddcdc8a9e",
   "metadata": {},
   "outputs": [
    {
     "data": {
      "text/plain": [
       "9"
      ]
     },
     "execution_count": 36,
     "metadata": {},
     "output_type": "execute_result"
    }
   ],
   "source": [
    "# find function gives index no of given string\n",
    "course_name.find('n')"
   ]
  },
  {
   "cell_type": "code",
   "execution_count": 37,
   "id": "52141597-5ad8-4e4d-abb8-7602fbc3d592",
   "metadata": {},
   "outputs": [
    {
     "data": {
      "text/plain": [
       "1"
      ]
     },
     "execution_count": 37,
     "metadata": {},
     "output_type": "execute_result"
    }
   ],
   "source": [
    "course_name.find('a')"
   ]
  },
  {
   "cell_type": "code",
   "execution_count": 38,
   "id": "1299acc4-6b7a-46cf-9a93-42eaf248aafc",
   "metadata": {},
   "outputs": [
    {
     "data": {
      "text/plain": [
       "'Data science masters'"
      ]
     },
     "execution_count": 38,
     "metadata": {},
     "output_type": "execute_result"
    }
   ],
   "source": [
    "course_name"
   ]
  },
  {
   "cell_type": "code",
   "execution_count": 40,
   "id": "234d4c67-92fc-4e57-988b-300ff74e8fa6",
   "metadata": {},
   "outputs": [
    {
     "data": {
      "text/plain": [
       "3"
      ]
     },
     "execution_count": 40,
     "metadata": {},
     "output_type": "execute_result"
    }
   ],
   "source": [
    "course_name.find('a',2)"
   ]
  },
  {
   "cell_type": "code",
   "execution_count": 41,
   "id": "9e86ada5-c6bd-4440-9475-30a206a6895c",
   "metadata": {},
   "outputs": [
    {
     "data": {
      "text/plain": [
       "3"
      ]
     },
     "execution_count": 41,
     "metadata": {},
     "output_type": "execute_result"
    }
   ],
   "source": [
    "course_name.find('a',2,10)"
   ]
  },
  {
   "cell_type": "code",
   "execution_count": 41,
   "id": "5dbdb941-b14e-4dea-80f5-e812617a7e83",
   "metadata": {},
   "outputs": [
    {
     "data": {
      "text/plain": [
       "3"
      ]
     },
     "execution_count": 41,
     "metadata": {},
     "output_type": "execute_result"
    }
   ],
   "source": [
    "course_name.find('a',2,10)"
   ]
  },
  {
   "cell_type": "code",
   "execution_count": 42,
   "id": "66921ad6-c8cf-4b8a-bfbe-521de712051d",
   "metadata": {},
   "outputs": [
    {
     "data": {
      "text/plain": [
       "-1"
      ]
     },
     "execution_count": 42,
     "metadata": {},
     "output_type": "execute_result"
    }
   ],
   "source": [
    "# if element which we are trying to find not present in string it gives the -1 result\n",
    "course_name.find('a',4,10)"
   ]
  },
  {
   "cell_type": "code",
   "execution_count": 43,
   "id": "ce4c1602-ec91-4eab-8464-a0b93a0a9b93",
   "metadata": {},
   "outputs": [
    {
     "data": {
      "text/plain": [
       "14"
      ]
     },
     "execution_count": 43,
     "metadata": {},
     "output_type": "execute_result"
    }
   ],
   "source": [
    "# if element which we are trying to find not present in string it gives the -1 result\n",
    "course_name.find('a',4)"
   ]
  },
  {
   "cell_type": "code",
   "execution_count": 44,
   "id": "7d7afbfd-85db-416d-9a6d-a3fdc6581ecc",
   "metadata": {},
   "outputs": [
    {
     "data": {
      "text/plain": [
       "'Data science masters'"
      ]
     },
     "execution_count": 44,
     "metadata": {},
     "output_type": "execute_result"
    }
   ],
   "source": [
    "course_name"
   ]
  },
  {
   "cell_type": "code",
   "execution_count": 45,
   "id": "54780168-6836-49cd-9809-fc89fb2132e6",
   "metadata": {},
   "outputs": [
    {
     "data": {
      "text/plain": [
       "3"
      ]
     },
     "execution_count": 45,
     "metadata": {},
     "output_type": "execute_result"
    }
   ],
   "source": [
    "# count function it results how many single letter present in given string\n",
    "course_name.count('a')"
   ]
  },
  {
   "cell_type": "code",
   "execution_count": 46,
   "id": "27594e3d-2330-424d-b053-cf8c96a78339",
   "metadata": {},
   "outputs": [
    {
     "data": {
      "text/plain": [
       "1"
      ]
     },
     "execution_count": 46,
     "metadata": {},
     "output_type": "execute_result"
    }
   ],
   "source": [
    "# count function it results how many single letter present in given string\n",
    "course_name.count('n')"
   ]
  },
  {
   "cell_type": "code",
   "execution_count": 48,
   "id": "ec126263-561b-46f9-bb9a-7b7a4fbf04a4",
   "metadata": {},
   "outputs": [
    {
     "data": {
      "text/plain": [
       "2"
      ]
     },
     "execution_count": 48,
     "metadata": {},
     "output_type": "execute_result"
    }
   ],
   "source": [
    "# count function it results how many single letter present in given string\n",
    "course_name.count('a',2)"
   ]
  },
  {
   "cell_type": "code",
   "execution_count": 49,
   "id": "69fb5867-a58e-4c9b-91d2-ff8961ef6ecd",
   "metadata": {},
   "outputs": [
    {
     "data": {
      "text/plain": [
       "'Data science masters'"
      ]
     },
     "execution_count": 49,
     "metadata": {},
     "output_type": "execute_result"
    }
   ],
   "source": [
    "course_name"
   ]
  },
  {
   "cell_type": "code",
   "execution_count": 53,
   "id": "a5d1bbb4-fd98-4049-ac64-c73312c27b61",
   "metadata": {},
   "outputs": [
    {
     "data": {
      "text/plain": [
       "['Data', 'science', 'masters']"
      ]
     },
     "execution_count": 53,
     "metadata": {},
     "output_type": "execute_result"
    }
   ],
   "source": [
    "## split function \n",
    "course_name.split(' ') "
   ]
  },
  {
   "cell_type": "code",
   "execution_count": 54,
   "id": "8fb8c860-ebc7-425d-b054-72363f1a2499",
   "metadata": {},
   "outputs": [
    {
     "data": {
      "text/plain": [
       "['Data', 'science', 'masters']"
      ]
     },
     "execution_count": 54,
     "metadata": {},
     "output_type": "execute_result"
    }
   ],
   "source": [
    "## split function \n",
    "course_name.split() "
   ]
  },
  {
   "cell_type": "code",
   "execution_count": 54,
   "id": "054d5277-13d5-4864-8b53-94595cefb250",
   "metadata": {},
   "outputs": [
    {
     "data": {
      "text/plain": [
       "['Data', 'science', 'masters']"
      ]
     },
     "execution_count": 54,
     "metadata": {},
     "output_type": "execute_result"
    }
   ],
   "source": [
    "## split function \n",
    "course_name.split() "
   ]
  },
  {
   "cell_type": "code",
   "execution_count": 55,
   "id": "15a04757-b4b3-4f44-8bf6-0d953f916349",
   "metadata": {},
   "outputs": [
    {
     "data": {
      "text/plain": [
       "['Data ', 'cience ma', 'ter', '']"
      ]
     },
     "execution_count": 55,
     "metadata": {},
     "output_type": "execute_result"
    }
   ],
   "source": [
    "course_name.split('s')"
   ]
  },
  {
   "cell_type": "code",
   "execution_count": 56,
   "id": "5bc3b550-068a-4787-b74e-4d3a09fd67bb",
   "metadata": {},
   "outputs": [
    {
     "data": {
      "text/plain": [
       "('Data ', 's', 'cience masters')"
      ]
     },
     "execution_count": 56,
     "metadata": {},
     "output_type": "execute_result"
    }
   ],
   "source": [
    "course_name.partition('s')"
   ]
  },
  {
   "cell_type": "code",
   "execution_count": null,
   "id": "65ec902f-d02f-4420-9429-4dd03d0584d1",
   "metadata": {},
   "outputs": [],
   "source": [
    "# string upper case"
   ]
  },
  {
   "cell_type": "code",
   "execution_count": 61,
   "id": "e091288c-058c-43c9-8c50-afd5d1f26d1d",
   "metadata": {},
   "outputs": [],
   "source": [
    "name=\"Sachin Kumar Yadav\""
   ]
  },
  {
   "cell_type": "code",
   "execution_count": 62,
   "id": "86971f95-9020-4cb3-9cc7-71eca07ac79e",
   "metadata": {},
   "outputs": [
    {
     "data": {
      "text/plain": [
       "'Sachin Kumar Yadav'"
      ]
     },
     "execution_count": 62,
     "metadata": {},
     "output_type": "execute_result"
    }
   ],
   "source": [
    "name"
   ]
  },
  {
   "cell_type": "code",
   "execution_count": 63,
   "id": "3023daa9-0e49-44fe-ba8d-0d806864b077",
   "metadata": {},
   "outputs": [
    {
     "data": {
      "text/plain": [
       "'SACHIN KUMAR YADAV'"
      ]
     },
     "execution_count": 63,
     "metadata": {},
     "output_type": "execute_result"
    }
   ],
   "source": [
    "# string upper case\n",
    "# it\n",
    "name.upper()"
   ]
  },
  {
   "cell_type": "code",
   "execution_count": 65,
   "id": "cb1d4cb7-f3fe-4d23-bb97-81bba6b876f5",
   "metadata": {},
   "outputs": [
    {
     "data": {
      "text/plain": [
       "'sachin kumar yadav'"
      ]
     },
     "execution_count": 65,
     "metadata": {},
     "output_type": "execute_result"
    }
   ],
   "source": [
    "## string lower case\n",
    "name.lower()"
   ]
  },
  {
   "cell_type": "code",
   "execution_count": 66,
   "id": "8ad1fd96-cb0f-49f9-a68d-45329eca74d0",
   "metadata": {},
   "outputs": [
    {
     "data": {
      "text/plain": [
       "'sACHIN kUMAR yADAV'"
      ]
     },
     "execution_count": 66,
     "metadata": {},
     "output_type": "execute_result"
    }
   ],
   "source": [
    "# swapcase use to do first letter of every element is in small letter\n",
    "name.swapcase()"
   ]
  },
  {
   "cell_type": "code",
   "execution_count": 67,
   "id": "d8199910-ac7f-4592-9ec9-7f1b75f85a83",
   "metadata": {},
   "outputs": [
    {
     "data": {
      "text/plain": [
       "'Sachin Kumar Yadav'"
      ]
     },
     "execution_count": 67,
     "metadata": {},
     "output_type": "execute_result"
    }
   ],
   "source": [
    "# title \n",
    "#title use to do first letter of every element is in capital letter\n",
    "# \n",
    "name.title()"
   ]
  },
  {
   "cell_type": "code",
   "execution_count": 68,
   "id": "1150dad1-309c-4365-8609-e959acd6ac0a",
   "metadata": {},
   "outputs": [
    {
     "data": {
      "text/plain": [
       "'Sachin kumar yadav'"
      ]
     },
     "execution_count": 68,
     "metadata": {},
     "output_type": "execute_result"
    }
   ],
   "source": [
    "# capitalize\n",
    "#  use to do firstletter is  capital and rest are in small letter\n",
    "name.capitalize()"
   ]
  },
  {
   "cell_type": "code",
   "execution_count": null,
   "id": "f5e1a830-1724-45b7-8306-011d696d4d19",
   "metadata": {},
   "outputs": [],
   "source": []
  }
 ],
 "metadata": {
  "kernelspec": {
   "display_name": "Python 3 (ipykernel)",
   "language": "python",
   "name": "python3"
  },
  "language_info": {
   "codemirror_mode": {
    "name": "ipython",
    "version": 3
   },
   "file_extension": ".py",
   "mimetype": "text/x-python",
   "name": "python",
   "nbconvert_exporter": "python",
   "pygments_lexer": "ipython3",
   "version": "3.10.8"
  }
 },
 "nbformat": 4,
 "nbformat_minor": 5
}
