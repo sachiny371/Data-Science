{
 "cells": [
  {
   "cell_type": "code",
   "execution_count": 1,
   "id": "c0728aa1-5ccb-40ce-9ab4-8913caed4a4a",
   "metadata": {},
   "outputs": [
    {
     "data": {
      "text/plain": [
       "0"
      ]
     },
     "execution_count": 1,
     "metadata": {},
     "output_type": "execute_result"
    }
   ],
   "source": [
    "int()"
   ]
  },
  {
   "cell_type": "code",
   "execution_count": 3,
   "id": "17dc9adf-7c08-44d3-b813-8f2170196538",
   "metadata": {},
   "outputs": [
    {
     "name": "stdout",
     "output_type": "stream",
     "text": [
      "hello world\n"
     ]
    }
   ],
   "source": [
    "print(\"hello world\")"
   ]
  },
  {
   "cell_type": "code",
   "execution_count": 4,
   "id": "61dc7c74-854f-4ba2-8faf-92b2f8a6fd6b",
   "metadata": {},
   "outputs": [
    {
     "name": "stdout",
     "output_type": "stream",
     "text": [
      "123\n"
     ]
    }
   ],
   "source": [
    "print(123)"
   ]
  },
  {
   "cell_type": "code",
   "execution_count": 6,
   "id": "4382e30f-a316-447a-beb2-9d54ecfc6460",
   "metadata": {},
   "outputs": [
    {
     "name": "stdout",
     "output_type": "stream",
     "text": [
      "my age is : 30\n"
     ]
    }
   ],
   "source": [
    "age=30\n",
    "print(\"my age is :\",age)"
   ]
  },
  {
   "cell_type": "code",
   "execution_count": 13,
   "id": "937d50c4-180b-45f1-ae76-b441b0212d5c",
   "metadata": {},
   "outputs": [
    {
     "name": "stdout",
     "output_type": "stream",
     "text": [
      "my age is:{age}\n"
     ]
    }
   ],
   "source": [
    "print(\"my age is:{age}\") # without fstring it consider as a string"
   ]
  },
  {
   "cell_type": "code",
   "execution_count": 14,
   "id": "fb33b9bb-bc3b-420a-8131-5fd451f6a8de",
   "metadata": {},
   "outputs": [
    {
     "name": "stdout",
     "output_type": "stream",
     "text": [
      "my age is:30\n"
     ]
    }
   ],
   "source": [
    "print(f\"my age is:{age}\") # after pressing fstring its shows propr data"
   ]
  },
  {
   "cell_type": "code",
   "execution_count": 15,
   "id": "25d1945b-4e40-49e8-8b02-d16947317b68",
   "metadata": {},
   "outputs": [
    {
     "name": "stdout",
     "output_type": "stream",
     "text": [
      "my name is sachin and age is 30\n"
     ]
    }
   ],
   "source": [
    "## format\n",
    "name=\"sachin\"\n",
    "age=30\n",
    "print(\"my name is {} and age is {}\".format(name,age))"
   ]
  },
  {
   "cell_type": "code",
   "execution_count": 17,
   "id": "b1b4f3db-e5d7-4da9-bdcc-98db4887292a",
   "metadata": {},
   "outputs": [
    {
     "name": "stdout",
     "output_type": "stream",
     "text": [
      "my name is 30 and age is sachin\n"
     ]
    }
   ],
   "source": [
    "## .format example\n",
    "name=\"sachin\"\n",
    "age=30\n",
    "print(\"my name is {} and age is {}\".format(age,name))"
   ]
  },
  {
   "cell_type": "code",
   "execution_count": 18,
   "id": "9d7bb4a7-d532-429b-b0f0-4850648168af",
   "metadata": {},
   "outputs": [
    {
     "name": "stdout",
     "output_type": "stream",
     "text": [
      "my name is sachin and age is 30\n"
     ]
    }
   ],
   "source": [
    "## placeholder example\n",
    "name=\"sachin\"\n",
    "age=30\n",
    "print(\"my name is {firstname} and age is {firstage}\".format(firstname=name,firstage=age))"
   ]
  },
  {
   "cell_type": "code",
   "execution_count": 19,
   "id": "68db927d-2bcf-4460-a473-f48f5830628b",
   "metadata": {},
   "outputs": [
    {
     "name": "stdout",
     "output_type": "stream",
     "text": [
      "my name is 30 and age is sachin\n"
     ]
    }
   ],
   "source": [
    "## placeholder example\n",
    "name=\"sachin\"\n",
    "age=30\n",
    "print(\"my name is {firstname} and age is {firstage}\".format(firstage=name,firstname=age))"
   ]
  },
  {
   "cell_type": "code",
   "execution_count": 20,
   "id": "8bcc4e9a-5ff2-4343-a875-7082c0ba679b",
   "metadata": {},
   "outputs": [
    {
     "name": "stdout",
     "output_type": "stream",
     "text": [
      "my name is sachin and age is 30\n"
     ]
    }
   ],
   "source": [
    "## placeholder example\n",
    "name=\"sachin\"\n",
    "age=30\n",
    "print(\"my name is {firstname} and age is {firstage}\".format(firstage=age,firstname=name))"
   ]
  },
  {
   "cell_type": "code",
   "execution_count": null,
   "id": "40ad8c3d-6a67-48eb-8989-48b8de94e7d7",
   "metadata": {},
   "outputs": [],
   "source": [
    "# example\n",
    "name=\"sachin kumar\"\n",
    "age=30\n",
    "degree=B.tech\n",
    "print \" my age is 30,I have completed my degree: BE with the name of sachin kumar\""
   ]
  },
  {
   "cell_type": "code",
   "execution_count": 23,
   "id": "dbf2942c-9c0c-40e8-8b0c-00f82ecec9e8",
   "metadata": {},
   "outputs": [
    {
     "name": "stdout",
     "output_type": "stream",
     "text": [
      " my age is 30,I have completed my degree:B.tech with the name of sachin kumar\n"
     ]
    }
   ],
   "source": [
    "# using fstring\n",
    "name=\"sachin kumar\"\n",
    "age=30\n",
    "degree=\"B.tech\"\n",
    "print(f\" my age is {age},I have completed my degree:{degree} with the name of {name}\")"
   ]
  },
  {
   "cell_type": "code",
   "execution_count": 24,
   "id": "9d20e268-43fe-43b7-b7e1-539a7d447e44",
   "metadata": {},
   "outputs": [
    {
     "name": "stdout",
     "output_type": "stream",
     "text": [
      " my age is 30,I have completed my degree:B.tech with the name of sachin kumar\n"
     ]
    }
   ],
   "source": [
    "# format fstring\n",
    "name=\"sachin kumar\"\n",
    "age=30\n",
    "degree=\"B.tech\"\n",
    "print(\" my age is {},I have completed my degree:{} with the name of {}\".format(age,degree,name))"
   ]
  },
  {
   "cell_type": "markdown",
   "id": "101901bc-a57e-4732-88de-6bafc1b41214",
   "metadata": {},
   "source": [
    "# control flow\n",
    " decision making statement\n",
    " 1.if\n",
    " 2.if else\n",
    " 3.if elif else\n",
    " 4.nested if\n",
    " 5.single statement suite"
   ]
  },
  {
   "cell_type": "code",
   "execution_count": 25,
   "id": "8bc505ec-00da-44de-82d5-2e8a14f960f1",
   "metadata": {},
   "outputs": [
    {
     "name": "stdout",
     "output_type": "stream",
     "text": [
      "you are eligble for vote\n"
     ]
    }
   ],
   "source": [
    "# if statement\n",
    "age=18\n",
    "if age>=18:\n",
    "    print(\"you are eligble for vote\")"
   ]
  },
  {
   "cell_type": "code",
   "execution_count": 26,
   "id": "991df878-4c70-44c1-a622-2ad4b0847b52",
   "metadata": {},
   "outputs": [],
   "source": [
    "# if statement\n",
    "age=18\n",
    "if age<=17:\n",
    "    print(\"you are eligble for vote\")"
   ]
  },
  {
   "cell_type": "code",
   "execution_count": 27,
   "id": "4b439ca1-bd10-4d5e-a35d-e9de37912d03",
   "metadata": {},
   "outputs": [
    {
     "data": {
      "text/plain": [
       "False"
      ]
     },
     "execution_count": 27,
     "metadata": {},
     "output_type": "execute_result"
    }
   ],
   "source": [
    "18<=17"
   ]
  },
  {
   "cell_type": "code",
   "execution_count": 29,
   "id": "22d9f72c-3dc1-45fa-a21a-9d64ff8216b7",
   "metadata": {},
   "outputs": [
    {
     "name": "stdout",
     "output_type": "stream",
     "text": [
      "you are eligble for vote\n"
     ]
    }
   ],
   "source": [
    "# if statement\n",
    "age=19\n",
    "if age>=18:\n",
    "    print(\"you are eligble for vote\")"
   ]
  },
  {
   "cell_type": "markdown",
   "id": "b12b94f8-1a93-4fa5-9021-2551f40488e6",
   "metadata": {},
   "source": [
    "# input"
   ]
  },
  {
   "cell_type": "code",
   "execution_count": 30,
   "id": "41e7c598-687c-4edd-b457-f5f1a1c63ebd",
   "metadata": {},
   "outputs": [
    {
     "name": "stdin",
     "output_type": "stream",
     "text": [
      " sachin\n"
     ]
    },
    {
     "data": {
      "text/plain": [
       "'sachin'"
      ]
     },
     "execution_count": 30,
     "metadata": {},
     "output_type": "execute_result"
    }
   ],
   "source": [
    "# input gives a block to put your value during run time\n",
    "input() "
   ]
  },
  {
   "cell_type": "code",
   "execution_count": 31,
   "id": "3c4e0234-925b-4e3b-9323-b18e7b3ce788",
   "metadata": {},
   "outputs": [
    {
     "name": "stdin",
     "output_type": "stream",
     "text": [
      "enter the name: sachin\n"
     ]
    }
   ],
   "source": [
    "name=input(\"enter the name:\")"
   ]
  },
  {
   "cell_type": "code",
   "execution_count": 32,
   "id": "1ea5edb7-32c4-4068-baf3-ec324c7ee714",
   "metadata": {},
   "outputs": [
    {
     "name": "stdin",
     "output_type": "stream",
     "text": [
      "enter the age: 30\n"
     ]
    }
   ],
   "source": [
    "age=input(\"enter the age:\")"
   ]
  },
  {
   "cell_type": "code",
   "execution_count": null,
   "id": "44751d32-4f17-4061-8906-399eda177103",
   "metadata": {},
   "outputs": [],
   "source": [
    "## Task\n",
    "# take a input of age\n",
    "# check wether age >=18 and <=45\n",
    "# display a message you are young blood"
   ]
  },
  {
   "cell_type": "code",
   "execution_count": 33,
   "id": "6fa599e1-9db9-4249-b431-3a87b767d4c1",
   "metadata": {},
   "outputs": [
    {
     "name": "stdin",
     "output_type": "stream",
     "text": [
      "enter your age: 20\n"
     ]
    },
    {
     "name": "stdout",
     "output_type": "stream",
     "text": [
      "you are young blood\n"
     ]
    }
   ],
   "source": [
    "age=int(input(\"enter your age:\"))\n",
    "if age>=18 and age<=45:\n",
    "    print(\"you are young blood\")"
   ]
  },
  {
   "cell_type": "code",
   "execution_count": 41,
   "id": "9eeb082c-4dde-4897-a879-b01635207bbd",
   "metadata": {},
   "outputs": [
    {
     "data": {
      "text/plain": [
       "False"
      ]
     },
     "execution_count": 41,
     "metadata": {},
     "output_type": "execute_result"
    }
   ],
   "source": [
    "True and False"
   ]
  },
  {
   "cell_type": "code",
   "execution_count": 42,
   "id": "7714a196-ec97-40bb-a6fb-389f59cdc2e1",
   "metadata": {},
   "outputs": [
    {
     "data": {
      "text/plain": [
       "True"
      ]
     },
     "execution_count": 42,
     "metadata": {},
     "output_type": "execute_result"
    }
   ],
   "source": [
    "True and True"
   ]
  },
  {
   "cell_type": "code",
   "execution_count": 34,
   "id": "27d82ab5-496a-4654-8e49-f740dd325a05",
   "metadata": {},
   "outputs": [
    {
     "name": "stdin",
     "output_type": "stream",
     "text": [
      "enter your age: 17\n"
     ]
    }
   ],
   "source": [
    "age=int(input(\"enter your age:\"))\n",
    "if age>=18 and age<=45:\n",
    "    print(\"you are young blood\")"
   ]
  },
  {
   "cell_type": "code",
   "execution_count": 35,
   "id": "eae6be0a-61ba-434d-8237-5b9b579c0437",
   "metadata": {},
   "outputs": [
    {
     "name": "stdin",
     "output_type": "stream",
     "text": [
      "enter your age: 45\n"
     ]
    },
    {
     "name": "stdout",
     "output_type": "stream",
     "text": [
      "you are young blood\n"
     ]
    }
   ],
   "source": [
    "age=int(input(\"enter your age:\"))\n",
    "if age>=18 and age<=45:\n",
    "    print(\"you are young blood\")"
   ]
  },
  {
   "cell_type": "code",
   "execution_count": 37,
   "id": "c463b763-194e-4450-96ef-4d262c080ac9",
   "metadata": {},
   "outputs": [
    {
     "name": "stdin",
     "output_type": "stream",
     "text": [
      "enter your age: 46\n"
     ]
    }
   ],
   "source": [
    "age=int(input(\"enter your age:\"))\n",
    "if age>=18 and age<=45:\n",
    "    print(\"you are young blood\")"
   ]
  },
  {
   "cell_type": "code",
   "execution_count": 38,
   "id": "184fbe16-48b8-4eaf-9e98-e8ab9c3559dc",
   "metadata": {},
   "outputs": [
    {
     "name": "stdin",
     "output_type": "stream",
     "text": [
      "enter your age: 46\n"
     ]
    },
    {
     "name": "stdout",
     "output_type": "stream",
     "text": [
      "sorry\n"
     ]
    }
   ],
   "source": [
    "# if else statement\n",
    "age=int(input(\"enter your age:\"))\n",
    "if age>=18 and age<=45:\n",
    "    print(\"you are young blood\")\n",
    "else:\n",
    "    print(\"sorry\")"
   ]
  },
  {
   "cell_type": "code",
   "execution_count": 39,
   "id": "8d7837ec-cc7e-4282-a9f6-8b9e00e99249",
   "metadata": {},
   "outputs": [
    {
     "name": "stdin",
     "output_type": "stream",
     "text": [
      "enter your age: 17\n"
     ]
    },
    {
     "name": "stdout",
     "output_type": "stream",
     "text": [
      "sorry\n"
     ]
    }
   ],
   "source": [
    "age=int(input(\"enter your age:\"))\n",
    "if age>=18 and age<=45:\n",
    "    print(\"you are young blood\")\n",
    "else:\n",
    "    print(\"sorry\")"
   ]
  },
  {
   "cell_type": "code",
   "execution_count": 40,
   "id": "92f364a4-d785-4356-ab2a-ccdb0b54375b",
   "metadata": {},
   "outputs": [
    {
     "name": "stdin",
     "output_type": "stream",
     "text": [
      "enter your age: 35\n"
     ]
    },
    {
     "name": "stdout",
     "output_type": "stream",
     "text": [
      "you are young blood\n"
     ]
    }
   ],
   "source": [
    "age=int(input(\"enter your age:\"))\n",
    "if age>=18 and age<=45:\n",
    "    print(\"you are young blood\")\n",
    "else:\n",
    "    print(\"sorry\")"
   ]
  },
  {
   "cell_type": "code",
   "execution_count": null,
   "id": "3c549f53-c47f-4b94-8fe8-1bb635ae97cd",
   "metadata": {},
   "outputs": [],
   "source": [
    "# mall-input product price\n",
    "# product >1000 rs get 20% off\n",
    "# print product price after dscount\n",
    "# product price <1000 rs get 30% discount\n",
    "# print product price after discount"
   ]
  },
  {
   "cell_type": "code",
   "execution_count": 1,
   "id": "881dd7ac-ceed-4ab2-a5bc-5db3f7213c8d",
   "metadata": {},
   "outputs": [
    {
     "name": "stdin",
     "output_type": "stream",
     "text": [
      "enter the price 2000\n"
     ]
    },
    {
     "name": "stdout",
     "output_type": "stream",
     "text": [
      "price of product:1600.0\n"
     ]
    }
   ],
   "source": [
    "product_price=int(input(\"enter the price\"))\n",
    "if product_price>1000:\n",
    "    print(\"price of product:{}\".format(product_price*.8))\n",
    "else:\n",
    "    print((\"price of product:{}\".format(product_price*.7)))"
   ]
  },
  {
   "cell_type": "code",
   "execution_count": 2,
   "id": "91ccc74d-6fb4-469e-b930-9c20c8f00eef",
   "metadata": {},
   "outputs": [
    {
     "name": "stdin",
     "output_type": "stream",
     "text": [
      "enter the price 1000\n"
     ]
    },
    {
     "name": "stdout",
     "output_type": "stream",
     "text": [
      "price of product:700.0\n"
     ]
    }
   ],
   "source": [
    "product_price=int(input(\"enter the price\"))\n",
    "if product_price>1000:\n",
    "    print(\"price of product:{}\".format(product_price*.8))\n",
    "else:\n",
    "    print((\"price of product:{}\".format(product_price*.7)))"
   ]
  },
  {
   "cell_type": "code",
   "execution_count": 3,
   "id": "7494674b-3d3a-4e84-8114-8c02296ec1da",
   "metadata": {},
   "outputs": [
    {
     "name": "stdin",
     "output_type": "stream",
     "text": [
      "enter the price 800\n"
     ]
    },
    {
     "name": "stdout",
     "output_type": "stream",
     "text": [
      "price of product:560.0\n"
     ]
    }
   ],
   "source": [
    "product_price=int(input(\"enter the price\"))\n",
    "if product_price>1000:\n",
    "    print(\"price of product:{}\".format(product_price*.8))\n",
    "else:\n",
    "    print((\"price of product:{}\".format(product_price*.7)))"
   ]
  },
  {
   "cell_type": "code",
   "execution_count": null,
   "id": "5702067f-a879-478f-bc21-b568dbad6e5b",
   "metadata": {},
   "outputs": [],
   "source": [
    "#product >3000 rs get 20% off\n",
    "# print product price after dscount\n",
    "# product price>=2000 and <=3000 rs get 30% discount\n",
    "# print product price after discount\n",
    "#product pricemall-input product price\n",
    "#  <=1000 rs and <2000 rs get 40% discount\n",
    "# print product price after dscount"
   ]
  },
  {
   "cell_type": "code",
   "execution_count": 5,
   "id": "47f63618-5cd2-4839-b5bd-fa77a3c273a3",
   "metadata": {},
   "outputs": [
    {
     "name": "stdin",
     "output_type": "stream",
     "text": [
      "enter the price 5000\n"
     ]
    },
    {
     "name": "stdout",
     "output_type": "stream",
     "text": [
      "price of product:4000.0\n"
     ]
    }
   ],
   "source": [
    "product_price=int(input(\"enter the price\"))\n",
    "if product_price>3000:\n",
    "    print(\"price of product:{}\".format(product_price*.8))\n",
    "elif product_price>=2000 and product_price<=3000:\n",
    "    print((\"price of product:{}\".format(product_price*.7)))\n",
    "elif product_price>=1000 and product_price<2000:\n",
    "     print((\"price of product:{}\".format(product_price*.6)))\n",
    "else:\n",
    "    print(\"lets drink\")"
   ]
  },
  {
   "cell_type": "code",
   "execution_count": 7,
   "id": "7c3d9334-b8f0-4937-b9d9-97d77e3707fd",
   "metadata": {},
   "outputs": [
    {
     "name": "stdin",
     "output_type": "stream",
     "text": [
      "enter the price 2000\n"
     ]
    },
    {
     "name": "stdout",
     "output_type": "stream",
     "text": [
      "price of product:1400.0\n"
     ]
    }
   ],
   "source": [
    "product_price=int(input(\"enter the price\"))\n",
    "if product_price>3000:\n",
    "    print(\"price of product:{}\".format(product_price*.8))\n",
    "elif product_price>=2000 and product_price<=3000:\n",
    "    print((\"price of product:{}\".format(product_price*.7)))\n",
    "elif product_price>=1000 and product_price<2000:\n",
    "     print((\"price of product:{}\".format(product_price*.6)))\n",
    "else:\n",
    "    print(\"lets drink\")"
   ]
  },
  {
   "cell_type": "code",
   "execution_count": 9,
   "id": "11cd53fb-7acf-4bb2-b38b-e8a4903cf317",
   "metadata": {},
   "outputs": [
    {
     "name": "stdin",
     "output_type": "stream",
     "text": [
      "enter the price 1600\n"
     ]
    },
    {
     "name": "stdout",
     "output_type": "stream",
     "text": [
      "price of product:960.0\n"
     ]
    }
   ],
   "source": [
    "product_price=int(input(\"enter the price\"))\n",
    "if product_price>3000:\n",
    "    print(\"price of product:{}\".format(product_price*.8))\n",
    "elif product_price>=2000 and product_price<=3000:\n",
    "    print((\"price of product:{}\".format(product_price*.7)))\n",
    "elif product_price>=1000 and product_price<2000:\n",
    "     print((\"price of product:{}\".format(product_price*.6)))\n",
    "else:\n",
    "    print(\"lets drink\")"
   ]
  },
  {
   "cell_type": "code",
   "execution_count": 10,
   "id": "96c32fbe-19d6-450f-abda-80a80902a514",
   "metadata": {},
   "outputs": [
    {
     "name": "stdin",
     "output_type": "stream",
     "text": [
      "enter the price 500\n"
     ]
    },
    {
     "name": "stdout",
     "output_type": "stream",
     "text": [
      "no discount\n"
     ]
    }
   ],
   "source": [
    "product_price=int(input(\"enter the price\"))\n",
    "if product_price>3000:\n",
    "    print(\"price of product:{}\".format(product_price*.8))\n",
    "elif product_price>=2000 and product_price<=3000:\n",
    "    print((\"price of product:{}\".format(product_price*.7)))\n",
    "elif product_price>=1000 and product_price<2000:\n",
    "     print((\"price of product:{}\".format(product_price*.6)))\n",
    "else:\n",
    "    print(\"no discount\")"
   ]
  },
  {
   "cell_type": "code",
   "execution_count": null,
   "id": "b5a5446a-9407-463f-8985-55c5f2451d04",
   "metadata": {},
   "outputs": [],
   "source": [
    "#product >3000 rs get 20% off\n",
    "# product price==4000 rs get additional discount\n",
    "# print product price after dscount\n",
    "# product price>=2000 and <=3000 rs get 30% discount\n",
    "# print product price after discount\n",
    "#product pricemall-input product price\n",
    "#  <=1000 rs and <2000 rs get 40% discount\n",
    "# print product price after dscount"
   ]
  },
  {
   "cell_type": "code",
   "execution_count": 14,
   "id": "85affc71-bd61-48e7-809a-c317cadd0b94",
   "metadata": {},
   "outputs": [
    {
     "name": "stdin",
     "output_type": "stream",
     "text": [
      "enter the price 4000\n"
     ]
    },
    {
     "name": "stdout",
     "output_type": "stream",
     "text": [
      "congratulation you get a trip of goa \n",
      "price of product:3200.0\n"
     ]
    }
   ],
   "source": [
    "product_price=int(input(\"enter the price\"))\n",
    "if product_price>3000:\n",
    "    if product_price==4000:\n",
    "        print(\"congratulation you get a trip of goa \")\n",
    "    print(\"price of product:{}\".format(product_price*.8))\n",
    "elif product_price>=2000 and product_price<=3000:\n",
    "    print((\"price of product:{}\".format(product_price*.7)))\n",
    "elif product_price>=1000 and product_price<2000:\n",
    "     print((\"price of product:{}\".format(product_price*.6)))\n",
    "else:\n",
    "    print(\"no discount\")"
   ]
  },
  {
   "cell_type": "code",
   "execution_count": 17,
   "id": "2530c4fb-0092-4c32-957d-31e35a8fa613",
   "metadata": {},
   "outputs": [
    {
     "name": "stdin",
     "output_type": "stream",
     "text": [
      "enter value 500\n"
     ]
    },
    {
     "name": "stdout",
     "output_type": "stream",
     "text": [
      "the value is less than equal to 999\n"
     ]
    }
   ],
   "source": [
    "# single statement\n",
    "val=int(input(\"enter value\"))\n",
    "if (val<=999):print(\"the value is less than equal to 999\")"
   ]
  },
  {
   "cell_type": "code",
   "execution_count": 19,
   "id": "23674b06-f20e-4a92-b01d-7dbc12803a4d",
   "metadata": {},
   "outputs": [
    {
     "name": "stdin",
     "output_type": "stream",
     "text": [
      "enter value 1000\n"
     ]
    },
    {
     "name": "stdout",
     "output_type": "stream",
     "text": [
      "go home\n"
     ]
    }
   ],
   "source": [
    "# single statement\n",
    "val=int(input(\"enter value\"))\n",
    "if (val<=999):print(\"the value is less than equal to 999\")\n",
    "else:\n",
    "    print(\"go home\")"
   ]
  },
  {
   "cell_type": "markdown",
   "id": "f700cb5c-0fe4-4373-af45-267d5821e988",
   "metadata": {},
   "source": [
    "## loop statement\n",
    " 1.while loop\n",
    " 2.for loop\n",
    " 3.nested loop \n",
    " 4.loop control(break,continue,pass)"
   ]
  },
  {
   "cell_type": "code",
   "execution_count": 24,
   "id": "b9d8293e-9990-41f0-8ea7-1c8961cd00aa",
   "metadata": {},
   "outputs": [
    {
     "name": "stdout",
     "output_type": "stream",
     "text": [
      "25\n",
      "26\n",
      "27\n",
      "28\n",
      "29\n",
      "30\n",
      "31\n",
      "32\n",
      "33\n",
      "34\n",
      "35\n",
      "36\n",
      "37\n",
      "38\n",
      "39\n",
      "40\n",
      "41\n",
      "42\n",
      "43\n",
      "44\n",
      "45\n",
      "46\n",
      "47\n",
      "48\n",
      "49\n",
      "50\n",
      "51\n",
      "52\n",
      "53\n",
      "54\n",
      "55\n",
      "56\n",
      "57\n",
      "58\n",
      "59\n",
      "60\n",
      "its time to retire\n"
     ]
    }
   ],
   "source": [
    "# while loop\n",
    "joining_age=25\n",
    "while joining_age<=60:\n",
    "    print(joining_age)\n",
    "    joining_age=joining_age+1\n",
    "else:\n",
    "    print(\"its time to retire\")\n",
    "        "
   ]
  },
  {
   "cell_type": "code",
   "execution_count": 23,
   "id": "9cf4071e-4dfe-409c-8f05-678b77f8ced4",
   "metadata": {},
   "outputs": [
    {
     "name": "stdout",
     "output_type": "stream",
     "text": [
      "26\n",
      "27\n",
      "28\n",
      "29\n",
      "30\n",
      "31\n",
      "32\n",
      "33\n",
      "34\n",
      "35\n",
      "36\n",
      "37\n",
      "38\n",
      "39\n",
      "40\n",
      "41\n",
      "42\n",
      "43\n",
      "44\n",
      "45\n",
      "46\n",
      "47\n",
      "48\n",
      "49\n",
      "50\n",
      "51\n",
      "52\n",
      "53\n",
      "54\n",
      "55\n",
      "56\n",
      "57\n",
      "58\n",
      "59\n",
      "60\n",
      "61\n",
      "its time to retire\n"
     ]
    }
   ],
   "source": [
    "# while loop while else\n",
    "joining_age=25\n",
    "while joining_age<=60:\n",
    "    joining_age=joining_age+1\n",
    "    print(joining_age)\n",
    "else:\n",
    "    print(\"its time to retire\")\n",
    "    "
   ]
  },
  {
   "cell_type": "code",
   "execution_count": 25,
   "id": "da0e4966-d576-4702-a20f-3ce74b218c3f",
   "metadata": {},
   "outputs": [
    {
     "name": "stdin",
     "output_type": "stream",
     "text": [
      "enter amount 1000\n"
     ]
    },
    {
     "name": "stdout",
     "output_type": "stream",
     "text": [
      "900\n",
      "800\n",
      "700\n",
      "600\n",
      "500\n",
      "400\n",
      "300\n",
      "200\n",
      "100\n",
      "0\n"
     ]
    }
   ],
   "source": [
    "## atm machine with just 1000 rs\n",
    "amount=int(input(\"enter amount\"))\n",
    "while amount!=0:\n",
    "    amount=amount-100\n",
    "    print(amount)"
   ]
  },
  {
   "cell_type": "code",
   "execution_count": 26,
   "id": "634c31d2-465d-4ba8-87c5-e19b83d904f7",
   "metadata": {},
   "outputs": [
    {
     "name": "stdout",
     "output_type": "stream",
     "text": [
      "900\n",
      "800\n",
      "700\n",
      "600\n",
      "500\n",
      "400\n",
      "300\n",
      "200\n",
      "100\n",
      "0\n"
     ]
    }
   ],
   "source": [
    "## atm machine with just 1000 rs\n",
    "amount=1000\n",
    "while amount!=0:\n",
    "    amount=amount-100\n",
    "    print(amount)"
   ]
  },
  {
   "cell_type": "code",
   "execution_count": 28,
   "id": "8f2d3dc4-fa4d-47a2-afb8-83356a4b8ba2",
   "metadata": {},
   "outputs": [
    {
     "name": "stdout",
     "output_type": "stream",
     "text": [
      "1000\n",
      "900\n",
      "800\n",
      "700\n",
      "600\n",
      "500\n",
      "400\n",
      "300\n",
      "200\n",
      "100\n",
      "fill cash\n"
     ]
    }
   ],
   "source": [
    "## atm machine with just 1000 rs\n",
    "amount=1000\n",
    "while amount!=0:\n",
    "    print(amount)\n",
    "    amount=amount-100\n",
    "else:\n",
    "    print(\"fill cash\")\n",
    "    "
   ]
  },
  {
   "cell_type": "markdown",
   "id": "fee5fe52-19b4-4bda-9bcb-8bb92e78ca79",
   "metadata": {},
   "source": [
    "## for loop"
   ]
  },
  {
   "cell_type": "code",
   "execution_count": 31,
   "id": "f88e0d0e-d59c-467b-9a02-c6060ecc69d5",
   "metadata": {},
   "outputs": [],
   "source": [
    "lst=[\"sachin\",1,2,3,4,\"apple\",\"banana\"]"
   ]
  },
  {
   "cell_type": "code",
   "execution_count": 32,
   "id": "d411809c-d0c0-41de-b65c-20c09b776e7c",
   "metadata": {},
   "outputs": [
    {
     "data": {
      "text/plain": [
       "['sachin', 1, 2, 3, 4, 'apple', 'banana']"
      ]
     },
     "execution_count": 32,
     "metadata": {},
     "output_type": "execute_result"
    }
   ],
   "source": [
    "lst"
   ]
  },
  {
   "cell_type": "code",
   "execution_count": 33,
   "id": "757bf0fa-b668-429e-8df8-34acd27b669c",
   "metadata": {},
   "outputs": [
    {
     "data": {
      "text/plain": [
       "list"
      ]
     },
     "execution_count": 33,
     "metadata": {},
     "output_type": "execute_result"
    }
   ],
   "source": [
    "type(lst)"
   ]
  },
  {
   "cell_type": "code",
   "execution_count": 34,
   "id": "075560af-dfb9-4d22-bc8e-0c3dc73f79ca",
   "metadata": {},
   "outputs": [
    {
     "data": {
      "text/plain": [
       "'sachin'"
      ]
     },
     "execution_count": 34,
     "metadata": {},
     "output_type": "execute_result"
    }
   ],
   "source": [
    "lst[0]"
   ]
  },
  {
   "cell_type": "code",
   "execution_count": 35,
   "id": "00fdc485-460f-47f0-8fe5-63258df5f483",
   "metadata": {},
   "outputs": [
    {
     "data": {
      "text/plain": [
       "2"
      ]
     },
     "execution_count": 35,
     "metadata": {},
     "output_type": "execute_result"
    }
   ],
   "source": [
    "lst[2]"
   ]
  },
  {
   "cell_type": "code",
   "execution_count": 36,
   "id": "89481cf9-8a80-47bb-8df4-5716b4017b5b",
   "metadata": {},
   "outputs": [
    {
     "data": {
      "text/plain": [
       "'apple'"
      ]
     },
     "execution_count": 36,
     "metadata": {},
     "output_type": "execute_result"
    }
   ],
   "source": [
    "lst[5]"
   ]
  },
  {
   "cell_type": "code",
   "execution_count": 38,
   "id": "b36fb081-289d-444e-a7ae-bbf1adfc19b4",
   "metadata": {},
   "outputs": [
    {
     "name": "stdout",
     "output_type": "stream",
     "text": [
      "sachin\n",
      "1\n",
      "2\n",
      "3\n",
      "4\n",
      "apple\n",
      "banana\n"
     ]
    }
   ],
   "source": [
    "for x in lst:\n",
    "    print(x)"
   ]
  },
  {
   "cell_type": "code",
   "execution_count": 43,
   "id": "84e4e2c8-1bf2-4f7a-b49d-fd5e27f2e3c9",
   "metadata": {},
   "outputs": [],
   "source": [
    "fruit_list=[\"mango\",\"banana\",\"cherry\",\"apple\",\"papaya\"]"
   ]
  },
  {
   "cell_type": "code",
   "execution_count": 44,
   "id": "2b3306e8-57c1-43a2-9c71-55a0471fdc98",
   "metadata": {},
   "outputs": [
    {
     "name": "stdout",
     "output_type": "stream",
     "text": [
      "mango\n",
      "banana\n",
      "cherry\n",
      "apple\n",
      "papaya\n"
     ]
    }
   ],
   "source": [
    "for a in fruit_list:\n",
    "    print(a)"
   ]
  },
  {
   "cell_type": "code",
   "execution_count": 54,
   "id": "f8537b9d-bf34-4e07-a68f-4e5d0f510553",
   "metadata": {},
   "outputs": [
    {
     "name": "stdout",
     "output_type": "stream",
     "text": [
      "mango\n",
      "banana\n",
      "the fruit name banana\n",
      "cherry\n",
      "apple\n",
      "papaya\n"
     ]
    }
   ],
   "source": [
    "for a in fruit_list:\n",
    "    print(a)\n",
    "    if a==\"banana\":\n",
    "         print(\"the fruit name banana\")\n",
    "            "
   ]
  },
  {
   "cell_type": "code",
   "execution_count": 58,
   "id": "e9a201c2-aaf1-40b7-be18-b9dfc775c972",
   "metadata": {},
   "outputs": [
    {
     "name": "stdout",
     "output_type": "stream",
     "text": [
      "mango\n",
      "banana\n",
      "the fruit name banana\n"
     ]
    }
   ],
   "source": [
    "for a in fruit_list:\n",
    "    print(a)\n",
    "    if a==\"banana\":\n",
    "         print(\"the fruit name banana\")\n",
    "         break"
   ]
  },
  {
   "cell_type": "code",
   "execution_count": 59,
   "id": "cc3d6e5d-98fd-46ff-a056-63839bb76bb5",
   "metadata": {},
   "outputs": [
    {
     "name": "stdout",
     "output_type": "stream",
     "text": [
      "m\n",
      "a\n",
      "n\n",
      "g\n",
      "o\n"
     ]
    }
   ],
   "source": [
    "fruit=\"mango\"\n",
    "for x in fruit:\n",
    "    print(x)\n"
   ]
  },
  {
   "cell_type": "code",
   "execution_count": 60,
   "id": "a96ea414-8ad2-43b4-8b3c-981e871c082e",
   "metadata": {},
   "outputs": [
    {
     "data": {
      "text/plain": [
       "'m'"
      ]
     },
     "execution_count": 60,
     "metadata": {},
     "output_type": "execute_result"
    }
   ],
   "source": [
    "fruit[0]"
   ]
  },
  {
   "cell_type": "code",
   "execution_count": 61,
   "id": "ccd00bde-bd62-4253-991a-c64e932fc198",
   "metadata": {},
   "outputs": [
    {
     "data": {
      "text/plain": [
       "'a'"
      ]
     },
     "execution_count": 61,
     "metadata": {},
     "output_type": "execute_result"
    }
   ],
   "source": [
    "fruit[1]"
   ]
  },
  {
   "cell_type": "markdown",
   "id": "4eee8a95-6873-4fb3-b007-bf95abefa8a1",
   "metadata": {},
   "source": [
    "## nested loop"
   ]
  },
  {
   "cell_type": "code",
   "execution_count": 64,
   "id": "525566c3-88f4-4723-a62b-0fcbcd72ea7f",
   "metadata": {},
   "outputs": [
    {
     "data": {
      "text/plain": [
       "range(1, 6)"
      ]
     },
     "execution_count": 64,
     "metadata": {},
     "output_type": "execute_result"
    }
   ],
   "source": [
    "# range\n",
    "range(1,6)"
   ]
  },
  {
   "cell_type": "code",
   "execution_count": 65,
   "id": "840a00e7-ec6e-4f22-93ee-e1b814e3ba60",
   "metadata": {},
   "outputs": [
    {
     "name": "stdout",
     "output_type": "stream",
     "text": [
      "1\n",
      "2\n",
      "3\n",
      "4\n",
      "5\n"
     ]
    }
   ],
   "source": [
    "for i in range(1,6):\n",
    "    print(i)"
   ]
  },
  {
   "cell_type": "code",
   "execution_count": 66,
   "id": "a0ed0d60-9f4d-4641-b1dc-5373e6a63aae",
   "metadata": {},
   "outputs": [
    {
     "name": "stdout",
     "output_type": "stream",
     "text": [
      "1\n",
      "3\n",
      "5\n"
     ]
    }
   ],
   "source": [
    "for i in range(1,6,2):\n",
    "    print(i)"
   ]
  },
  {
   "cell_type": "code",
   "execution_count": 67,
   "id": "6d08ae99-0b9f-47c4-9100-e05ed1d517a4",
   "metadata": {},
   "outputs": [
    {
     "name": "stdout",
     "output_type": "stream",
     "text": [
      "1\n",
      "4\n"
     ]
    }
   ],
   "source": [
    "for i in range(1,6,3):\n",
    "    print(i)"
   ]
  },
  {
   "cell_type": "code",
   "execution_count": 1,
   "id": "7f784c8b-7ce6-4d74-8354-2c0eced7f52a",
   "metadata": {},
   "outputs": [
    {
     "data": {
      "text/plain": [
       "range(0, 5)"
      ]
     },
     "execution_count": 1,
     "metadata": {},
     "output_type": "execute_result"
    }
   ],
   "source": [
    "range(0,5)"
   ]
  },
  {
   "cell_type": "code",
   "execution_count": 2,
   "id": "1cea950a-5c00-4558-92c1-e1e38076dd57",
   "metadata": {},
   "outputs": [
    {
     "name": "stdout",
     "output_type": "stream",
     "text": [
      "0\n",
      "1\n",
      "2\n",
      "3\n",
      "4\n"
     ]
    }
   ],
   "source": [
    "for b in range(0,5):\n",
    "    print(b)"
   ]
  },
  {
   "cell_type": "code",
   "execution_count": 6,
   "id": "5bc58389-2077-4e1c-b9d8-52d440e7174e",
   "metadata": {},
   "outputs": [
    {
     "name": "stdout",
     "output_type": "stream",
     "text": [
      "*\n",
      "**\n",
      "***\n",
      "****\n",
      "*****\n",
      "******\n",
      "*******\n"
     ]
    }
   ],
   "source": [
    "# nested loop\n",
    "n=7\n",
    "for i in range(0,n):\n",
    "    for j in range(0,i+1):\n",
    "        print(\"*\", end=\"\")\n",
    "    print(\"\\r\")    "
   ]
  },
  {
   "cell_type": "code",
   "execution_count": 7,
   "id": "a8a6fd19-4c65-4b8a-bc08-783ddbb78b2b",
   "metadata": {},
   "outputs": [],
   "source": [
    "# loop control\n",
    "# break and continue\n",
    "fruit_list=[\"mango\",\"banana\",\"cherry\",\"apple\",\"papaya\"]"
   ]
  },
  {
   "cell_type": "code",
   "execution_count": 8,
   "id": "ced0bbaa-e318-4b4b-a79b-ad0478229c5d",
   "metadata": {},
   "outputs": [
    {
     "name": "stdout",
     "output_type": "stream",
     "text": [
      "mango\n",
      "banana\n",
      "cherry\n",
      "apple\n",
      "papaya\n"
     ]
    }
   ],
   "source": [
    "for i in fruit_list:\n",
    "    print(i)"
   ]
  },
  {
   "cell_type": "code",
   "execution_count": 11,
   "id": "33b70bf1-dd23-401a-9b7d-2b3aa3f26e87",
   "metadata": {},
   "outputs": [
    {
     "name": "stdout",
     "output_type": "stream",
     "text": [
      "mango\n",
      "banana\n",
      "cherry\n",
      "the fruit is apple\n",
      "apple\n",
      "papaya\n"
     ]
    }
   ],
   "source": [
    "for i in fruit_list:\n",
    "    if i==\"apple\":\n",
    "        print(\"the fruit is apple\")\n",
    "    print(i)"
   ]
  },
  {
   "cell_type": "code",
   "execution_count": 12,
   "id": "34e987a0-f87a-4043-8cb9-5076e54af9f5",
   "metadata": {},
   "outputs": [
    {
     "name": "stdout",
     "output_type": "stream",
     "text": [
      "mango\n",
      "banana\n",
      "cherry\n",
      "the fruit is apple\n"
     ]
    }
   ],
   "source": [
    "## Break if one the condition true it come outside entire loop without printing the given condition\n",
    "for i in fruit_list:\n",
    "    if i==\"apple\":\n",
    "        print(\"the fruit is apple\")\n",
    "        break\n",
    "    print(i)"
   ]
  },
  {
   "cell_type": "code",
   "execution_count": 13,
   "id": "7e40200f-a2e0-45a9-ba7e-ad7f65a86d18",
   "metadata": {},
   "outputs": [
    {
     "name": "stdout",
     "output_type": "stream",
     "text": [
      "mango\n",
      "banana\n",
      "cherry\n",
      "the fruit is apple\n",
      "apple\n",
      "papaya\n"
     ]
    }
   ],
   "source": [
    "## pass it pss all the data\n",
    "for i in fruit_list:\n",
    "    if i==\"apple\":\n",
    "        print(\"the fruit is apple\")\n",
    "        pass\n",
    "    print(i)"
   ]
  },
  {
   "cell_type": "code",
   "execution_count": 14,
   "id": "b054314e-103f-448c-ab87-1453791c1de7",
   "metadata": {},
   "outputs": [
    {
     "name": "stdout",
     "output_type": "stream",
     "text": [
      "mango\n",
      "banana\n",
      "cherry\n",
      "the fruit is apple\n",
      "papaya\n"
     ]
    }
   ],
   "source": [
    "## continue it skip only one data which is true for given condition data\n",
    "for i in fruit_list:\n",
    "    if i==\"apple\":\n",
    "        print(\"the fruit is apple\")\n",
    "        continue\n",
    "    print(i)"
   ]
  },
  {
   "cell_type": "code",
   "execution_count": null,
   "id": "538b474e-14d0-4ae7-a3a8-5bb5ace108ed",
   "metadata": {},
   "outputs": [],
   "source": []
  },
  {
   "cell_type": "code",
   "execution_count": null,
   "id": "fa1b21f3-02ac-4a7f-862a-d11572add9ed",
   "metadata": {},
   "outputs": [],
   "source": []
  },
  {
   "cell_type": "code",
   "execution_count": null,
   "id": "968c8c9d-fa60-48df-9e5f-699b608ade47",
   "metadata": {},
   "outputs": [],
   "source": []
  },
  {
   "cell_type": "code",
   "execution_count": null,
   "id": "0c544168-acc2-4d31-88e9-88791b021441",
   "metadata": {},
   "outputs": [],
   "source": []
  },
  {
   "cell_type": "code",
   "execution_count": null,
   "id": "b589279f-5099-4546-aa57-235ddea5eef6",
   "metadata": {},
   "outputs": [],
   "source": []
  },
  {
   "cell_type": "code",
   "execution_count": null,
   "id": "ba596d2e-4c93-4fef-8adc-65e781ff318a",
   "metadata": {},
   "outputs": [],
   "source": []
  },
  {
   "cell_type": "code",
   "execution_count": null,
   "id": "4607ae77-e2c7-4bed-a215-033b480c9eb0",
   "metadata": {},
   "outputs": [],
   "source": []
  }
 ],
 "metadata": {
  "kernelspec": {
   "display_name": "Python 3 (ipykernel)",
   "language": "python",
   "name": "python3"
  },
  "language_info": {
   "codemirror_mode": {
    "name": "ipython",
    "version": 3
   },
   "file_extension": ".py",
   "mimetype": "text/x-python",
   "name": "python",
   "nbconvert_exporter": "python",
   "pygments_lexer": "ipython3",
   "version": "3.10.8"
  }
 },
 "nbformat": 4,
 "nbformat_minor": 5
}
