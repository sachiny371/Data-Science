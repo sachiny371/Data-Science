{
 "cells": [
  {
   "cell_type": "code",
   "execution_count": 1,
   "id": "9f883080-7f92-4014-b855-fc2eef7ece46",
   "metadata": {},
   "outputs": [],
   "source": [
    "a=10"
   ]
  },
  {
   "cell_type": "code",
   "execution_count": 2,
   "id": "be72a87f-7c80-4890-abb2-08b67c29139b",
   "metadata": {},
   "outputs": [
    {
     "data": {
      "text/plain": [
       "10"
      ]
     },
     "execution_count": 2,
     "metadata": {},
     "output_type": "execute_result"
    }
   ],
   "source": [
    "a"
   ]
  },
  {
   "cell_type": "code",
   "execution_count": 3,
   "id": "59ab586d-e54e-4f92-a6c2-fedf367ba472",
   "metadata": {},
   "outputs": [],
   "source": [
    "# markdown is used for texting or give description or headgig purpose or title\n",
    "# is used for boldness or size of the text\n",
    "# more no. of # the size of text goes smaller"
   ]
  },
  {
   "cell_type": "markdown",
   "id": "cbc8f6b9-4261-4728-a34a-de97e91ce2b0",
   "metadata": {},
   "source": [
    "# Day 1 lecture"
   ]
  },
  {
   "cell_type": "markdown",
   "id": "fa70d355-d804-4bbc-9e2e-3a1a16f56033",
   "metadata": {},
   "source": [
    "# pw skils\n",
    "## pw skills\n",
    "### pw skills"
   ]
  },
  {
   "cell_type": "code",
   "execution_count": 4,
   "id": "2ce5ac2e-2b88-4dd1-838d-1360efd18e53",
   "metadata": {},
   "outputs": [
    {
     "data": {
      "text/plain": [
       "2"
      ]
     },
     "execution_count": 4,
     "metadata": {},
     "output_type": "execute_result"
    }
   ],
   "source": [
    "1+1"
   ]
  },
  {
   "cell_type": "code",
   "execution_count": null,
   "id": "1d7ee7f7-1551-43f2-8b6f-0ee96c2bf98b",
   "metadata": {},
   "outputs": [],
   "source": []
  },
  {
   "cell_type": "code",
   "execution_count": 5,
   "id": "5ae58072-a4b4-4014-892b-1d66e85efc93",
   "metadata": {},
   "outputs": [
    {
     "data": {
      "text/plain": [
       "2"
      ]
     },
     "execution_count": 5,
     "metadata": {},
     "output_type": "execute_result"
    }
   ],
   "source": [
    "1+1"
   ]
  },
  {
   "cell_type": "code",
   "execution_count": 6,
   "id": "369ac2a6-d09b-4cb0-bd28-ad6ca7652e82",
   "metadata": {},
   "outputs": [
    {
     "data": {
      "text/plain": [
       "10"
      ]
     },
     "execution_count": 6,
     "metadata": {},
     "output_type": "execute_result"
    }
   ],
   "source": [
    "## this is used for single line comment/if we press # compiler knows this is used for comment not to be executed\n",
    "a=10\n",
    "a"
   ]
  },
  {
   "cell_type": "code",
   "execution_count": 2,
   "id": "9e7ee1f7-6353-44b5-93a2-bb37f869d0b5",
   "metadata": {},
   "outputs": [],
   "source": [
    "\"\"\"\n",
    "pw skills lab\n",
    "python notebook\n",
    "\"\"\"\n",
    "a=20"
   ]
  },
  {
   "cell_type": "code",
   "execution_count": 1,
   "id": "9a1f4b5a-58a7-4c33-afde-5b8a0cc4a82a",
   "metadata": {},
   "outputs": [
    {
     "ename": "NameError",
     "evalue": "name 'a' is not defined",
     "output_type": "error",
     "traceback": [
      "\u001b[0;31m---------------------------------------------------------------------------\u001b[0m",
      "\u001b[0;31mNameError\u001b[0m                                 Traceback (most recent call last)",
      "Cell \u001b[0;32mIn[1], line 1\u001b[0m\n\u001b[0;32m----> 1\u001b[0m \u001b[43ma\u001b[49m\n",
      "\u001b[0;31mNameError\u001b[0m: name 'a' is not defined"
     ]
    }
   ],
   "source": [
    "a"
   ]
  },
  {
   "cell_type": "code",
   "execution_count": null,
   "id": "86956ea3-8b83-405e-a65e-5a58a9a46888",
   "metadata": {},
   "outputs": [],
   "source": [
    "# esc+a used for cell creation"
   ]
  },
  {
   "cell_type": "markdown",
   "id": "932abf9f-b6da-4fba-a2c0-60de099eceb0",
   "metadata": {},
   "source": [
    "# numbers in python"
   ]
  },
  {
   "cell_type": "code",
   "execution_count": 5,
   "id": "e1f1d07b-9c61-4bf7-b70e-9c2fee8be0fd",
   "metadata": {},
   "outputs": [
    {
     "data": {
      "text/plain": [
       "4"
      ]
     },
     "execution_count": 5,
     "metadata": {},
     "output_type": "execute_result"
    }
   ],
   "source": [
    "1+3 #it just shows the output"
   ]
  },
  {
   "cell_type": "code",
   "execution_count": 4,
   "id": "f3e30985-a83a-41ef-9351-3b753e8fa548",
   "metadata": {},
   "outputs": [
    {
     "name": "stdout",
     "output_type": "stream",
     "text": [
      "4\n"
     ]
    }
   ],
   "source": [
    "print(1+3) # after pressing print it shows output console"
   ]
  },
  {
   "cell_type": "code",
   "execution_count": 8,
   "id": "1c6de59e-4576-45e2-9c80-e70fda73f138",
   "metadata": {},
   "outputs": [
    {
     "name": "stdout",
     "output_type": "stream",
     "text": [
      "hello world my name is sachin and\n",
      " i works in pw skills and ineuron\n"
     ]
    }
   ],
   "source": [
    "print(\"hello world my name is sachin and\\n i works in pw skills and ineuron\") #\\n is used for new line"
   ]
  },
  {
   "cell_type": "markdown",
   "id": "9678b508-4bea-434e-a733-3c8c08f13a67",
   "metadata": {},
   "source": [
    "# variable asssignment"
   ]
  },
  {
   "cell_type": "code",
   "execution_count": 9,
   "id": "3e450ccb-f61d-4fe8-ad98-c979b9908b96",
   "metadata": {},
   "outputs": [],
   "source": [
    "name=\"sachin\"\n",
    "company=\"student\""
   ]
  },
  {
   "cell_type": "code",
   "execution_count": 19,
   "id": "780044a4-d7da-482d-8681-5ce7452e6b23",
   "metadata": {},
   "outputs": [
    {
     "data": {
      "text/plain": [
       "'sachin'"
      ]
     },
     "execution_count": 19,
     "metadata": {},
     "output_type": "execute_result"
    }
   ],
   "source": [
    "name"
   ]
  },
  {
   "cell_type": "code",
   "execution_count": 11,
   "id": "f68fc7c2-96c2-4689-b798-39f342631694",
   "metadata": {},
   "outputs": [
    {
     "data": {
      "text/plain": [
       "'student'"
      ]
     },
     "execution_count": 11,
     "metadata": {},
     "output_type": "execute_result"
    }
   ],
   "source": [
    "company"
   ]
  },
  {
   "cell_type": "code",
   "execution_count": 23,
   "id": "f6bf57df-0e61-43f9-aab1-4215ada9060b",
   "metadata": {},
   "outputs": [],
   "source": [
    "number=10\n",
    "number=60"
   ]
  },
  {
   "cell_type": "code",
   "execution_count": 24,
   "id": "d979712c-d95e-4167-a27b-5e81ee8a6a79",
   "metadata": {},
   "outputs": [
    {
     "data": {
      "text/plain": [
       "60"
      ]
     },
     "execution_count": 24,
     "metadata": {},
     "output_type": "execute_result"
    }
   ],
   "source": [
    "number"
   ]
  },
  {
   "cell_type": "raw",
   "id": "23ba621f-db3e-45cf-866b-bbdf3b86f18d",
   "metadata": {},
   "source": [
    "name"
   ]
  },
  {
   "cell_type": "code",
   "execution_count": 21,
   "id": "ef3c2252-4c8a-4a63-889c-db2ccb900408",
   "metadata": {},
   "outputs": [],
   "source": [
    "name=\"bala\""
   ]
  },
  {
   "cell_type": "code",
   "execution_count": 22,
   "id": "5ac27cb9-ef32-4c4a-a779-033e6d15d234",
   "metadata": {},
   "outputs": [
    {
     "data": {
      "text/plain": [
       "'bala'"
      ]
     },
     "execution_count": 22,
     "metadata": {},
     "output_type": "execute_result"
    }
   ],
   "source": [
    "name"
   ]
  },
  {
   "cell_type": "code",
   "execution_count": null,
   "id": "366b65c5-4062-44c0-9274-31d94e7c401f",
   "metadata": {},
   "outputs": [],
   "source": [
    "# iff variable value changes then its shows the latest output"
   ]
  },
  {
   "cell_type": "code",
   "execution_count": 25,
   "id": "8a5ad083-ceb5-42d4-8a46-367db7477d19",
   "metadata": {},
   "outputs": [],
   "source": [
    "# \"\" or '' is just shows string"
   ]
  },
  {
   "cell_type": "code",
   "execution_count": 26,
   "id": "16fb319d-152b-4eba-8856-40e7cecf8db0",
   "metadata": {},
   "outputs": [
    {
     "data": {
      "text/plain": [
       "''"
      ]
     },
     "execution_count": 26,
     "metadata": {},
     "output_type": "execute_result"
    }
   ],
   "source": [
    "\"\""
   ]
  },
  {
   "cell_type": "code",
   "execution_count": 27,
   "id": "6ee90e92-2c67-4097-8778-378b8098bcba",
   "metadata": {},
   "outputs": [
    {
     "data": {
      "text/plain": [
       "str"
      ]
     },
     "execution_count": 27,
     "metadata": {},
     "output_type": "execute_result"
    }
   ],
   "source": [
    "type(\"\")"
   ]
  },
  {
   "cell_type": "code",
   "execution_count": 28,
   "id": "6e8733f5-2bda-4e94-ac62-8906db477f52",
   "metadata": {},
   "outputs": [
    {
     "data": {
      "text/plain": [
       "str"
      ]
     },
     "execution_count": 28,
     "metadata": {},
     "output_type": "execute_result"
    }
   ],
   "source": [
    "type(name)"
   ]
  },
  {
   "cell_type": "code",
   "execution_count": 29,
   "id": "5296d207-cbb0-426c-87f8-0cdece10f56a",
   "metadata": {},
   "outputs": [
    {
     "data": {
      "text/plain": [
       "int"
      ]
     },
     "execution_count": 29,
     "metadata": {},
     "output_type": "execute_result"
    }
   ],
   "source": [
    "type(number)"
   ]
  },
  {
   "cell_type": "code",
   "execution_count": 31,
   "id": "9b47aab8-4224-40e7-ab0a-5338f0fd37fa",
   "metadata": {},
   "outputs": [],
   "source": [
    "decimalnumber=2.5"
   ]
  },
  {
   "cell_type": "code",
   "execution_count": 32,
   "id": "c4d6974b-b406-4884-a89c-a725e823f256",
   "metadata": {},
   "outputs": [
    {
     "data": {
      "text/plain": [
       "2.5"
      ]
     },
     "execution_count": 32,
     "metadata": {},
     "output_type": "execute_result"
    }
   ],
   "source": [
    "decimalnumber"
   ]
  },
  {
   "cell_type": "code",
   "execution_count": 33,
   "id": "5e5078a5-867f-40fd-80a4-f02b767ca05c",
   "metadata": {},
   "outputs": [
    {
     "data": {
      "text/plain": [
       "float"
      ]
     },
     "execution_count": 33,
     "metadata": {},
     "output_type": "execute_result"
    }
   ],
   "source": [
    "type(decimalnumber)"
   ]
  },
  {
   "cell_type": "code",
   "execution_count": 34,
   "id": "4901a0ff-69bd-4b56-8834-4239f902ac4d",
   "metadata": {},
   "outputs": [
    {
     "data": {
      "text/plain": [
       "(1+2j)"
      ]
     },
     "execution_count": 34,
     "metadata": {},
     "output_type": "execute_result"
    }
   ],
   "source": [
    "1+2j"
   ]
  },
  {
   "cell_type": "code",
   "execution_count": 35,
   "id": "4578f52d-f12b-4546-a922-218e439e5fc7",
   "metadata": {},
   "outputs": [
    {
     "data": {
      "text/plain": [
       "complex"
      ]
     },
     "execution_count": 35,
     "metadata": {},
     "output_type": "execute_result"
    }
   ],
   "source": [
    "type(1+2j)"
   ]
  },
  {
   "cell_type": "code",
   "execution_count": 36,
   "id": "e12b89ba-e247-46fd-8af8-973b908d73b9",
   "metadata": {},
   "outputs": [
    {
     "ename": "SyntaxError",
     "evalue": "invalid decimal literal (3702904640.py, line 3)",
     "output_type": "error",
     "traceback": [
      "\u001b[0;36m  Cell \u001b[0;32mIn[36], line 3\u001b[0;36m\u001b[0m\n\u001b[0;31m    1a\u001b[0m\n\u001b[0m    ^\u001b[0m\n\u001b[0;31mSyntaxError\u001b[0m\u001b[0;31m:\u001b[0m invalid decimal literal\n"
     ]
    }
   ],
   "source": [
    "# bad ways\n",
    "## dont start variable names with numbers\n",
    "1a\n",
    "2answer\n",
    "# good ways\n",
    "number1=10"
   ]
  },
  {
   "cell_type": "code",
   "execution_count": 42,
   "id": "bd1a255a-63dd-47d8-92cf-1e6366d37ccb",
   "metadata": {},
   "outputs": [
    {
     "name": "stdout",
     "output_type": "stream",
     "text": [
      "pwskills\n",
      "pwskills\n"
     ]
    }
   ],
   "source": [
    "# variable names are case sensative\n",
    "company='ineuron'\n",
    "company='pwskills'\n",
    "print(company)\n",
    "print(company)"
   ]
  },
  {
   "cell_type": "markdown",
   "id": "dd29ec89-4b35-4be3-a989-d19dbfcc5491",
   "metadata": {},
   "source": [
    "## boolean variables"
   ]
  },
  {
   "cell_type": "code",
   "execution_count": 44,
   "id": "f002cd25-9010-40af-80cf-6620723a2592",
   "metadata": {},
   "outputs": [
    {
     "data": {
      "text/plain": [
       "True"
      ]
     },
     "execution_count": 44,
     "metadata": {},
     "output_type": "execute_result"
    }
   ],
   "source": [
    "True"
   ]
  },
  {
   "cell_type": "code",
   "execution_count": 45,
   "id": "44e109ac-fdbb-4980-95f6-9346b1790a49",
   "metadata": {},
   "outputs": [
    {
     "ename": "NameError",
     "evalue": "name 'false' is not defined",
     "output_type": "error",
     "traceback": [
      "\u001b[0;31m---------------------------------------------------------------------------\u001b[0m",
      "\u001b[0;31mNameError\u001b[0m                                 Traceback (most recent call last)",
      "Cell \u001b[0;32mIn[45], line 1\u001b[0m\n\u001b[0;32m----> 1\u001b[0m \u001b[43mfalse\u001b[49m\n",
      "\u001b[0;31mNameError\u001b[0m: name 'false' is not defined"
     ]
    }
   ],
   "source": [
    "false # reserved keywordsstarted with capital letter"
   ]
  },
  {
   "cell_type": "code",
   "execution_count": 46,
   "id": "2e049518-3626-46a0-a441-7d32cca4fad2",
   "metadata": {},
   "outputs": [
    {
     "data": {
      "text/plain": [
       "False"
      ]
     },
     "execution_count": 46,
     "metadata": {},
     "output_type": "execute_result"
    }
   ],
   "source": [
    "False"
   ]
  },
  {
   "cell_type": "code",
   "execution_count": 47,
   "id": "33b1d1d1-8e29-4ba2-b72b-08eb6f4ccc60",
   "metadata": {},
   "outputs": [
    {
     "data": {
      "text/plain": [
       "False"
      ]
     },
     "execution_count": 47,
     "metadata": {},
     "output_type": "execute_result"
    }
   ],
   "source": [
    "True and False"
   ]
  },
  {
   "cell_type": "code",
   "execution_count": 48,
   "id": "15754def-9145-4b20-a33d-c012c202e891",
   "metadata": {},
   "outputs": [
    {
     "data": {
      "text/plain": [
       "True"
      ]
     },
     "execution_count": 48,
     "metadata": {},
     "output_type": "execute_result"
    }
   ],
   "source": [
    "True or False"
   ]
  },
  {
   "cell_type": "code",
   "execution_count": 50,
   "id": "c7bb6eca-a1de-486c-9647-5b6f932c835a",
   "metadata": {},
   "outputs": [
    {
     "data": {
      "text/plain": [
       "False"
      ]
     },
     "execution_count": 50,
     "metadata": {},
     "output_type": "execute_result"
    }
   ],
   "source": [
    "not True"
   ]
  },
  {
   "cell_type": "code",
   "execution_count": 51,
   "id": "0af73df9-fa04-4812-a162-02ae6fc1b33d",
   "metadata": {},
   "outputs": [
    {
     "data": {
      "text/plain": [
       "True"
      ]
     },
     "execution_count": 51,
     "metadata": {},
     "output_type": "execute_result"
    }
   ],
   "source": [
    "not False"
   ]
  },
  {
   "cell_type": "code",
   "execution_count": 52,
   "id": "6d83759d-1bcd-4f85-93e1-cc86fe4cebaf",
   "metadata": {},
   "outputs": [
    {
     "data": {
      "text/plain": [
       "bool"
      ]
     },
     "execution_count": 52,
     "metadata": {},
     "output_type": "execute_result"
    }
   ],
   "source": [
    "type(not True)"
   ]
  },
  {
   "cell_type": "code",
   "execution_count": 53,
   "id": "77eedac4-9f88-429a-b91c-6ed7f553fb7e",
   "metadata": {},
   "outputs": [
    {
     "data": {
      "text/plain": [
       "False"
      ]
     },
     "execution_count": 53,
     "metadata": {},
     "output_type": "execute_result"
    }
   ],
   "source": [
    "bool(0)"
   ]
  },
  {
   "cell_type": "code",
   "execution_count": 54,
   "id": "b0f1d6bc-d0e6-4917-9df9-959594fbefb2",
   "metadata": {},
   "outputs": [
    {
     "data": {
      "text/plain": [
       "True"
      ]
     },
     "execution_count": 54,
     "metadata": {},
     "output_type": "execute_result"
    }
   ],
   "source": [
    "bool(1)"
   ]
  },
  {
   "cell_type": "code",
   "execution_count": 57,
   "id": "465face4-1aa4-4829-ab0a-f90de0a06449",
   "metadata": {},
   "outputs": [
    {
     "name": "stdout",
     "output_type": "stream",
     "text": [
      "true\n"
     ]
    }
   ],
   "source": [
    "a=1\n",
    "if bool(a)==True:\n",
    "    print(\"true\")"
   ]
  },
  {
   "cell_type": "code",
   "execution_count": 58,
   "id": "aac04522-8ed9-4ffb-91de-334ac29dd1f1",
   "metadata": {},
   "outputs": [
    {
     "data": {
      "text/plain": [
       "'23'"
      ]
     },
     "execution_count": 58,
     "metadata": {},
     "output_type": "execute_result"
    }
   ],
   "source": [
    "# convert num into string\n",
    "23\n",
    "str(23)"
   ]
  },
  {
   "cell_type": "markdown",
   "id": "df62f593-6459-40b7-a07c-4366af1c43cf",
   "metadata": {},
   "source": [
    "## dynamic typing"
   ]
  },
  {
   "cell_type": "code",
   "execution_count": 59,
   "id": "1ee88a8e-68d0-4238-872a-39149f36220c",
   "metadata": {},
   "outputs": [],
   "source": [
    "## dynamic typing means it doesn't require to give function its automaticlly understand the code\n",
    "a=12\n",
    "str1=\"sachin\"\n",
    "a=\"var\""
   ]
  },
  {
   "cell_type": "code",
   "execution_count": null,
   "id": "982d1f63-2a51-479d-b001-cd985f6f041e",
   "metadata": {},
   "outputs": [],
   "source": []
  },
  {
   "cell_type": "code",
   "execution_count": 63,
   "id": "c4a83de5-82bb-4b55-8623-dbd93801695d",
   "metadata": {},
   "outputs": [
    {
     "name": "stdout",
     "output_type": "stream",
     "text": [
      "<class 'str'>\n"
     ]
    }
   ],
   "source": [
    "print(type(a))"
   ]
  },
  {
   "cell_type": "code",
   "execution_count": 61,
   "id": "8c919c7f-9277-439a-91da-d4fe1186cd6a",
   "metadata": {},
   "outputs": [
    {
     "data": {
      "text/plain": [
       "12"
      ]
     },
     "execution_count": 61,
     "metadata": {},
     "output_type": "execute_result"
    }
   ],
   "source": [
    "int(12)"
   ]
  },
  {
   "cell_type": "code",
   "execution_count": 62,
   "id": "d7f8596b-e59f-473d-b242-187671a46e0c",
   "metadata": {},
   "outputs": [
    {
     "ename": "NameError",
     "evalue": "name 'asd' is not defined",
     "output_type": "error",
     "traceback": [
      "\u001b[0;31m---------------------------------------------------------------------------\u001b[0m",
      "\u001b[0;31mNameError\u001b[0m                                 Traceback (most recent call last)",
      "Cell \u001b[0;32mIn[62], line 1\u001b[0m\n\u001b[0;32m----> 1\u001b[0m \u001b[38;5;28mint\u001b[39m(\u001b[43masd\u001b[49m)\n",
      "\u001b[0;31mNameError\u001b[0m: name 'asd' is not defined"
     ]
    }
   ],
   "source": [
    "int(asd)"
   ]
  },
  {
   "cell_type": "code",
   "execution_count": 64,
   "id": "fddb6060-7875-4ac7-8b13-97037b24143b",
   "metadata": {},
   "outputs": [
    {
     "data": {
      "text/plain": [
       "1234"
      ]
     },
     "execution_count": 64,
     "metadata": {},
     "output_type": "execute_result"
    }
   ],
   "source": [
    "int(\"1234\")"
   ]
  },
  {
   "cell_type": "code",
   "execution_count": 65,
   "id": "b77254d7-4399-4da8-ac4f-a5c5be6e5cf3",
   "metadata": {},
   "outputs": [
    {
     "data": {
      "text/plain": [
       "1"
      ]
     },
     "execution_count": 65,
     "metadata": {},
     "output_type": "execute_result"
    }
   ],
   "source": [
    "int(1.54)"
   ]
  },
  {
   "cell_type": "markdown",
   "id": "9e81d892-63d1-4ef2-b57c-2842772010c4",
   "metadata": {},
   "source": [
    "## concatenation b/w different data types"
   ]
  },
  {
   "cell_type": "code",
   "execution_count": 66,
   "id": "6391d7a1-dd3e-4259-9305-d1bc22a2c282",
   "metadata": {},
   "outputs": [
    {
     "data": {
      "text/plain": [
       "'11'"
      ]
     },
     "execution_count": 66,
     "metadata": {},
     "output_type": "execute_result"
    }
   ],
   "source": [
    "\"1\"+\"1\" #string concatenation"
   ]
  },
  {
   "cell_type": "code",
   "execution_count": 67,
   "id": "320d8fde-b4fe-4ac4-a5c6-b660d1029c71",
   "metadata": {},
   "outputs": [
    {
     "data": {
      "text/plain": [
       "2"
      ]
     },
     "execution_count": 67,
     "metadata": {},
     "output_type": "execute_result"
    }
   ],
   "source": [
    "int(\"1\")+int(\"1\") # int concatenation"
   ]
  },
  {
   "cell_type": "code",
   "execution_count": 68,
   "id": "cbb10885-78e6-4cb0-9a33-f01491fbe4e0",
   "metadata": {},
   "outputs": [
    {
     "ename": "TypeError",
     "evalue": "unsupported operand type(s) for +: 'int' and 'str'",
     "output_type": "error",
     "traceback": [
      "\u001b[0;31m---------------------------------------------------------------------------\u001b[0m",
      "\u001b[0;31mTypeError\u001b[0m                                 Traceback (most recent call last)",
      "Cell \u001b[0;32mIn[68], line 1\u001b[0m\n\u001b[0;32m----> 1\u001b[0m \u001b[38;5;28;43mint\u001b[39;49m\u001b[43m(\u001b[49m\u001b[38;5;124;43m\"\u001b[39;49m\u001b[38;5;124;43m1\u001b[39;49m\u001b[38;5;124;43m\"\u001b[39;49m\u001b[43m)\u001b[49m\u001b[38;5;241;43m+\u001b[39;49m\u001b[43m(\u001b[49m\u001b[38;5;124;43m\"\u001b[39;49m\u001b[38;5;124;43m1\u001b[39;49m\u001b[38;5;124;43m\"\u001b[39;49m\u001b[43m)\u001b[49m \u001b[38;5;66;03m# int concatenation\u001b[39;00m\n",
      "\u001b[0;31mTypeError\u001b[0m: unsupported operand type(s) for +: 'int' and 'str'"
     ]
    }
   ],
   "source": [
    "int(\"1\")+(\"1\") # mismatch concatenation"
   ]
  },
  {
   "cell_type": "code",
   "execution_count": 69,
   "id": "1e5d8cc5-3eae-4a83-aea6-bb57074762f1",
   "metadata": {},
   "outputs": [
    {
     "data": {
      "text/plain": [
       "'1111111111'"
      ]
     },
     "execution_count": 69,
     "metadata": {},
     "output_type": "execute_result"
    }
   ],
   "source": [
    "\"1\"*10"
   ]
  },
  {
   "cell_type": "code",
   "execution_count": 70,
   "id": "d63b4422-8933-4d6b-b282-dd1569f6c92f",
   "metadata": {},
   "outputs": [
    {
     "data": {
      "text/plain": [
       "10"
      ]
     },
     "execution_count": 70,
     "metadata": {},
     "output_type": "execute_result"
    }
   ],
   "source": [
    "2*5"
   ]
  },
  {
   "cell_type": "code",
   "execution_count": 71,
   "id": "c66c8ca9-032d-404e-abb7-8f7b1d9bcce3",
   "metadata": {},
   "outputs": [
    {
     "data": {
      "text/plain": [
       "'22222'"
      ]
     },
     "execution_count": 71,
     "metadata": {},
     "output_type": "execute_result"
    }
   ],
   "source": [
    "\"2\"*5"
   ]
  },
  {
   "cell_type": "code",
   "execution_count": null,
   "id": "05c3f990-af39-4ccd-b77d-301b56035d68",
   "metadata": {},
   "outputs": [],
   "source": []
  },
  {
   "cell_type": "code",
   "execution_count": null,
   "id": "d7452489-6229-4968-b1a0-63052b31eb59",
   "metadata": {},
   "outputs": [],
   "source": []
  }
 ],
 "metadata": {
  "kernelspec": {
   "display_name": "Python 3 (ipykernel)",
   "language": "python",
   "name": "python3"
  },
  "language_info": {
   "codemirror_mode": {
    "name": "ipython",
    "version": 3
   },
   "file_extension": ".py",
   "mimetype": "text/x-python",
   "name": "python",
   "nbconvert_exporter": "python",
   "pygments_lexer": "ipython3",
   "version": "3.10.8"
  }
 },
 "nbformat": 4,
 "nbformat_minor": 5
}
